{
 "cells": [
  {
   "cell_type": "code",
   "execution_count": 1,
   "id": "db29f099",
   "metadata": {},
   "outputs": [],
   "source": [
    "import torch\n",
    "from torch import nn\n",
    "import torch.nn.functional as F"
   ]
  },
  {
   "cell_type": "code",
   "execution_count": 6,
   "id": "abfe3714",
   "metadata": {},
   "outputs": [],
   "source": [
    "from transformers import (\n",
    "    BartModel, BartForConditionalGeneration, BartConfig, BartTokenizerFast,\n",
    "    top_k_top_p_filtering\n",
    ")\n",
    "from transformers.models.bart.modeling_bart import shift_tokens_right\n"
   ]
  },
  {
   "cell_type": "code",
   "execution_count": 32,
   "id": "66a30672",
   "metadata": {
    "scrolled": true
   },
   "outputs": [
    {
     "data": {
      "application/vnd.jupyter.widget-view+json": {
       "model_id": "3976a9625b2d4fa3a3cf17fa45fe68b1",
       "version_major": 2,
       "version_minor": 0
      },
      "text/plain": [
       "HBox(children=(FloatProgress(value=0.0, description='Downloading', max=898822.0, style=ProgressStyle(descripti…"
      ]
     },
     "metadata": {},
     "output_type": "display_data"
    },
    {
     "name": "stdout",
     "output_type": "stream",
     "text": [
      "\n"
     ]
    },
    {
     "data": {
      "application/vnd.jupyter.widget-view+json": {
       "model_id": "e43bda30b7df4f189c6a17b1a83a7f18",
       "version_major": 2,
       "version_minor": 0
      },
      "text/plain": [
       "HBox(children=(FloatProgress(value=0.0, description='Downloading', max=456318.0, style=ProgressStyle(descripti…"
      ]
     },
     "metadata": {},
     "output_type": "display_data"
    },
    {
     "name": "stdout",
     "output_type": "stream",
     "text": [
      "\n"
     ]
    },
    {
     "data": {
      "application/vnd.jupyter.widget-view+json": {
       "model_id": "20f95f45e8d648e6bdfba55995b92d59",
       "version_major": 2,
       "version_minor": 0
      },
      "text/plain": [
       "HBox(children=(FloatProgress(value=0.0, description='Downloading', max=1355863.0, style=ProgressStyle(descript…"
      ]
     },
     "metadata": {},
     "output_type": "display_data"
    },
    {
     "name": "stdout",
     "output_type": "stream",
     "text": [
      "\n"
     ]
    },
    {
     "data": {
      "application/vnd.jupyter.widget-view+json": {
       "model_id": "b7a057c6868c43088727953278799ffb",
       "version_major": 2,
       "version_minor": 0
      },
      "text/plain": [
       "HBox(children=(FloatProgress(value=0.0, description='Downloading', max=26.0, style=ProgressStyle(description_w…"
      ]
     },
     "metadata": {},
     "output_type": "display_data"
    },
    {
     "name": "stdout",
     "output_type": "stream",
     "text": [
      "\n"
     ]
    },
    {
     "data": {
      "application/vnd.jupyter.widget-view+json": {
       "model_id": "6c70eb75cf1446039381f2d5395b5730",
       "version_major": 2,
       "version_minor": 0
      },
      "text/plain": [
       "HBox(children=(FloatProgress(value=0.0, description='Downloading', max=1600.0, style=ProgressStyle(description…"
      ]
     },
     "metadata": {},
     "output_type": "display_data"
    },
    {
     "name": "stdout",
     "output_type": "stream",
     "text": [
      "\n"
     ]
    }
   ],
   "source": [
    "tokenizer = BartTokenizerFast.from_pretrained('facebook/bart-large')"
   ]
  },
  {
   "cell_type": "code",
   "execution_count": 33,
   "id": "22e9add8",
   "metadata": {
    "scrolled": true
   },
   "outputs": [
    {
     "data": {
      "application/vnd.jupyter.widget-view+json": {
       "model_id": "bc3c7ab679054595974e03017f936d97",
       "version_major": 2,
       "version_minor": 0
      },
      "text/plain": [
       "HBox(children=(FloatProgress(value=0.0, description='Downloading', max=1018571383.0, style=ProgressStyle(descr…"
      ]
     },
     "metadata": {},
     "output_type": "display_data"
    },
    {
     "name": "stdout",
     "output_type": "stream",
     "text": [
      "\n"
     ]
    },
    {
     "data": {
      "text/plain": [
       "BartConfig {\n",
       "  \"_name_or_path\": \"facebook/bart-large\",\n",
       "  \"activation_dropout\": 0.1,\n",
       "  \"activation_function\": \"gelu\",\n",
       "  \"add_bias_logits\": false,\n",
       "  \"add_final_layer_norm\": false,\n",
       "  \"architectures\": [\n",
       "    \"BartModel\"\n",
       "  ],\n",
       "  \"attention_dropout\": 0.1,\n",
       "  \"bos_token_id\": 0,\n",
       "  \"classif_dropout\": 0.1,\n",
       "  \"classifier_dropout\": 0.0,\n",
       "  \"d_model\": 1024,\n",
       "  \"decoder_attention_heads\": 16,\n",
       "  \"decoder_ffn_dim\": 4096,\n",
       "  \"decoder_layerdrop\": 0.0,\n",
       "  \"decoder_layers\": 12,\n",
       "  \"decoder_start_token_id\": 2,\n",
       "  \"dropout\": 0.1,\n",
       "  \"early_stopping\": true,\n",
       "  \"encoder_attention_heads\": 16,\n",
       "  \"encoder_ffn_dim\": 4096,\n",
       "  \"encoder_layerdrop\": 0.0,\n",
       "  \"encoder_layers\": 12,\n",
       "  \"eos_token_id\": 2,\n",
       "  \"forced_eos_token_id\": 2,\n",
       "  \"gradient_checkpointing\": false,\n",
       "  \"id2label\": {\n",
       "    \"0\": \"LABEL_0\",\n",
       "    \"1\": \"LABEL_1\",\n",
       "    \"2\": \"LABEL_2\"\n",
       "  },\n",
       "  \"init_std\": 0.02,\n",
       "  \"is_encoder_decoder\": true,\n",
       "  \"label2id\": {\n",
       "    \"LABEL_0\": 0,\n",
       "    \"LABEL_1\": 1,\n",
       "    \"LABEL_2\": 2\n",
       "  },\n",
       "  \"max_position_embeddings\": 1024,\n",
       "  \"model_type\": \"bart\",\n",
       "  \"no_repeat_ngram_size\": 3,\n",
       "  \"normalize_before\": false,\n",
       "  \"num_beams\": 4,\n",
       "  \"num_hidden_layers\": 12,\n",
       "  \"pad_token_id\": 1,\n",
       "  \"scale_embedding\": false,\n",
       "  \"task_specific_params\": {\n",
       "    \"summarization\": {\n",
       "      \"length_penalty\": 1.0,\n",
       "      \"max_length\": 128,\n",
       "      \"min_length\": 12,\n",
       "      \"num_beams\": 4\n",
       "    },\n",
       "    \"summarization_cnn\": {\n",
       "      \"length_penalty\": 2.0,\n",
       "      \"max_length\": 142,\n",
       "      \"min_length\": 56,\n",
       "      \"num_beams\": 4\n",
       "    },\n",
       "    \"summarization_xsum\": {\n",
       "      \"length_penalty\": 1.0,\n",
       "      \"max_length\": 62,\n",
       "      \"min_length\": 11,\n",
       "      \"num_beams\": 6\n",
       "    }\n",
       "  },\n",
       "  \"transformers_version\": \"4.15.0\",\n",
       "  \"use_cache\": true,\n",
       "  \"vocab_size\": 50265\n",
       "}"
      ]
     },
     "execution_count": 33,
     "metadata": {},
     "output_type": "execute_result"
    }
   ],
   "source": [
    "seq2seq = BartForConditionalGeneration.from_pretrained('facebook/bart-large')\n",
    "seq2seq.config"
   ]
  },
  {
   "cell_type": "code",
   "execution_count": 34,
   "id": "880da855",
   "metadata": {},
   "outputs": [],
   "source": [
    "s = \"Huggingface office is based in \""
   ]
  },
  {
   "cell_type": "code",
   "execution_count": 35,
   "id": "58f90ea2",
   "metadata": {},
   "outputs": [
    {
     "data": {
      "text/plain": [
       "{'input_ids': tensor([[    0, 40710,  3923,  9021,   558,    16,   716,    11,  1437,     2]]), 'attention_mask': tensor([[1, 1, 1, 1, 1, 1, 1, 1, 1, 1]])}"
      ]
     },
     "execution_count": 35,
     "metadata": {},
     "output_type": "execute_result"
    }
   ],
   "source": [
    "inputs = tokenizer(s, return_tensors='pt')\n",
    "inputs"
   ]
  },
  {
   "cell_type": "code",
   "execution_count": 36,
   "id": "360960ad",
   "metadata": {},
   "outputs": [
    {
     "data": {
      "text/plain": [
       "torch.Size([1, 10])"
      ]
     },
     "execution_count": 36,
     "metadata": {},
     "output_type": "execute_result"
    }
   ],
   "source": [
    "input_ids = inputs['input_ids']\n",
    "input_ids.size()"
   ]
  },
  {
   "cell_type": "code",
   "execution_count": 37,
   "id": "54fce731",
   "metadata": {},
   "outputs": [
    {
     "data": {
      "text/plain": [
       "odict_keys(['logits', 'past_key_values', 'encoder_last_hidden_state'])"
      ]
     },
     "execution_count": 37,
     "metadata": {},
     "output_type": "execute_result"
    }
   ],
   "source": [
    "seq2seq_outputs = seq2seq(**inputs)\n",
    "seq2seq_outputs.keys()"
   ]
  },
  {
   "cell_type": "code",
   "execution_count": 38,
   "id": "2b0185c9",
   "metadata": {},
   "outputs": [],
   "source": [
    "seq2seq_output_ids = torch.argmax(torch.softmax(seq2seq_outputs.logits, -1), -1)"
   ]
  },
  {
   "cell_type": "code",
   "execution_count": 39,
   "id": "18edc3b6",
   "metadata": {},
   "outputs": [
    {
     "data": {
      "text/plain": [
       "'HugHuggingface office is based in London�'"
      ]
     },
     "execution_count": 39,
     "metadata": {},
     "output_type": "execute_result"
    }
   ],
   "source": [
    "tokenizer.decode(seq2seq_output_ids[0].tolist())"
   ]
  },
  {
   "cell_type": "code",
   "execution_count": 15,
   "id": "8f46cc94",
   "metadata": {},
   "outputs": [],
   "source": [
    "encoder = seq2seq.get_encoder()\n",
    "decoder = seq2seq.get_decoder()"
   ]
  },
  {
   "cell_type": "code",
   "execution_count": 16,
   "id": "b4099a23",
   "metadata": {
    "scrolled": true
   },
   "outputs": [
    {
     "data": {
      "text/plain": [
       "BartConfig {\n",
       "  \"_name_or_path\": \"facebook/bart-base\",\n",
       "  \"activation_dropout\": 0.1,\n",
       "  \"activation_function\": \"gelu\",\n",
       "  \"add_bias_logits\": false,\n",
       "  \"add_final_layer_norm\": false,\n",
       "  \"architectures\": [\n",
       "    \"BartModel\"\n",
       "  ],\n",
       "  \"attention_dropout\": 0.1,\n",
       "  \"bos_token_id\": 0,\n",
       "  \"classif_dropout\": 0.1,\n",
       "  \"classifier_dropout\": 0.0,\n",
       "  \"d_model\": 768,\n",
       "  \"decoder_attention_heads\": 12,\n",
       "  \"decoder_ffn_dim\": 3072,\n",
       "  \"decoder_layerdrop\": 0.0,\n",
       "  \"decoder_layers\": 6,\n",
       "  \"decoder_start_token_id\": 2,\n",
       "  \"dropout\": 0.1,\n",
       "  \"early_stopping\": true,\n",
       "  \"encoder_attention_heads\": 12,\n",
       "  \"encoder_ffn_dim\": 3072,\n",
       "  \"encoder_layerdrop\": 0.0,\n",
       "  \"encoder_layers\": 6,\n",
       "  \"eos_token_id\": 2,\n",
       "  \"forced_eos_token_id\": 2,\n",
       "  \"gradient_checkpointing\": false,\n",
       "  \"id2label\": {\n",
       "    \"0\": \"LABEL_0\",\n",
       "    \"1\": \"LABEL_1\",\n",
       "    \"2\": \"LABEL_2\"\n",
       "  },\n",
       "  \"init_std\": 0.02,\n",
       "  \"is_encoder_decoder\": true,\n",
       "  \"label2id\": {\n",
       "    \"LABEL_0\": 0,\n",
       "    \"LABEL_1\": 1,\n",
       "    \"LABEL_2\": 2\n",
       "  },\n",
       "  \"max_position_embeddings\": 1024,\n",
       "  \"model_type\": \"bart\",\n",
       "  \"no_repeat_ngram_size\": 3,\n",
       "  \"normalize_before\": false,\n",
       "  \"normalize_embedding\": true,\n",
       "  \"num_beams\": 4,\n",
       "  \"num_hidden_layers\": 6,\n",
       "  \"pad_token_id\": 1,\n",
       "  \"scale_embedding\": false,\n",
       "  \"task_specific_params\": {\n",
       "    \"summarization\": {\n",
       "      \"length_penalty\": 1.0,\n",
       "      \"max_length\": 128,\n",
       "      \"min_length\": 12,\n",
       "      \"num_beams\": 4\n",
       "    },\n",
       "    \"summarization_cnn\": {\n",
       "      \"length_penalty\": 2.0,\n",
       "      \"max_length\": 142,\n",
       "      \"min_length\": 56,\n",
       "      \"num_beams\": 4\n",
       "    },\n",
       "    \"summarization_xsum\": {\n",
       "      \"length_penalty\": 1.0,\n",
       "      \"max_length\": 62,\n",
       "      \"min_length\": 11,\n",
       "      \"num_beams\": 6\n",
       "    }\n",
       "  },\n",
       "  \"torch_dtype\": \"float32\",\n",
       "  \"transformers_version\": \"4.15.0\",\n",
       "  \"use_cache\": true,\n",
       "  \"vocab_size\": 50265\n",
       "}"
      ]
     },
     "execution_count": 16,
     "metadata": {},
     "output_type": "execute_result"
    }
   ],
   "source": [
    "seq2seq.config"
   ]
  },
  {
   "cell_type": "code",
   "execution_count": 17,
   "id": "170c6f4a",
   "metadata": {},
   "outputs": [],
   "source": [
    "encoder_outputs = encoder(**inputs)"
   ]
  },
  {
   "cell_type": "code",
   "execution_count": 18,
   "id": "553451e8",
   "metadata": {},
   "outputs": [
    {
     "data": {
      "text/plain": [
       "torch.Size([1, 10, 768])"
      ]
     },
     "execution_count": 18,
     "metadata": {},
     "output_type": "execute_result"
    }
   ],
   "source": [
    "encoder_outputs[0].size()"
   ]
  },
  {
   "cell_type": "code",
   "execution_count": 19,
   "id": "71a13581",
   "metadata": {},
   "outputs": [
    {
     "data": {
      "text/plain": [
       "(1, 10)"
      ]
     },
     "execution_count": 19,
     "metadata": {},
     "output_type": "execute_result"
    }
   ],
   "source": [
    "decoder_input_ids = shift_tokens_right(\n",
    "    input_ids, seq2seq.config.pad_token_id, seq2seq.config.decoder_start_token_id\n",
    ")\n",
    "bsz, seq_len = decoder_input_ids.size()\n",
    "bsz, seq_len"
   ]
  },
  {
   "cell_type": "code",
   "execution_count": 20,
   "id": "b07670dc",
   "metadata": {},
   "outputs": [
    {
     "data": {
      "text/plain": [
       "'</s><s>Huggingface office is based in '"
      ]
     },
     "execution_count": 20,
     "metadata": {},
     "output_type": "execute_result"
    }
   ],
   "source": [
    "tokenizer.decode(decoder_input_ids[0].tolist())"
   ]
  },
  {
   "cell_type": "code",
   "execution_count": 21,
   "id": "5a7c9790",
   "metadata": {},
   "outputs": [
    {
     "data": {
      "text/plain": [
       "odict_keys(['last_hidden_state', 'past_key_values'])"
      ]
     },
     "execution_count": 21,
     "metadata": {},
     "output_type": "execute_result"
    }
   ],
   "source": [
    "decoder_outputs = decoder(\n",
    "    input_ids=decoder_input_ids,\n",
    "    encoder_hidden_states=encoder_outputs[0]\n",
    ")\n",
    "decoder_outputs.keys()"
   ]
  },
  {
   "cell_type": "code",
   "execution_count": 22,
   "id": "e95f858f",
   "metadata": {},
   "outputs": [
    {
     "data": {
      "text/plain": [
       "torch.Size([1, 10, 768])"
      ]
     },
     "execution_count": 22,
     "metadata": {},
     "output_type": "execute_result"
    }
   ],
   "source": [
    "decoder_outputs['last_hidden_state'].size()"
   ]
  },
  {
   "cell_type": "code",
   "execution_count": 23,
   "id": "7ddf0de3",
   "metadata": {},
   "outputs": [],
   "source": [
    "decoder_outputs_logits = seq2seq.lm_head(decoder_outputs[0])"
   ]
  },
  {
   "cell_type": "code",
   "execution_count": 24,
   "id": "589b27c8",
   "metadata": {},
   "outputs": [],
   "source": [
    "decoder_outputs_ids = torch.argmax(decoder_outputs_logits, -1)"
   ]
  },
  {
   "cell_type": "code",
   "execution_count": 25,
   "id": "546dda6b",
   "metadata": {},
   "outputs": [
    {
     "data": {
      "text/plain": [
       "'<s>Huggingface office is based in </s>'"
      ]
     },
     "execution_count": 25,
     "metadata": {},
     "output_type": "execute_result"
    }
   ],
   "source": [
    "tokenizer.decode(decoder_outputs_ids[0].tolist())"
   ]
  },
  {
   "cell_type": "code",
   "execution_count": 26,
   "id": "a6aef9d0",
   "metadata": {},
   "outputs": [
    {
     "data": {
      "text/plain": [
       "torch.Size([1, 10, 768])"
      ]
     },
     "execution_count": 26,
     "metadata": {},
     "output_type": "execute_result"
    }
   ],
   "source": [
    "encoder_outputs[0].size()"
   ]
  },
  {
   "cell_type": "code",
   "execution_count": 27,
   "id": "e1612b5b",
   "metadata": {},
   "outputs": [],
   "source": [
    "y = encoder_outputs[0]"
   ]
  },
  {
   "cell_type": "code",
   "execution_count": 28,
   "id": "63c3dbed",
   "metadata": {},
   "outputs": [
    {
     "data": {
      "text/plain": [
       "torch.Size([1, 7680])"
      ]
     },
     "execution_count": 28,
     "metadata": {},
     "output_type": "execute_result"
    }
   ],
   "source": [
    "y.view(1, -1).size()"
   ]
  },
  {
   "cell_type": "code",
   "execution_count": 29,
   "id": "dffac7d9",
   "metadata": {},
   "outputs": [],
   "source": [
    "class IntoAdjMatrix(nn.Module):\n",
    "    def __init__(self):\n",
    "        super().__init__()\n",
    "        self.dropout= nn.Dropout(p=0.3)\n",
    "        self.fc_1 = nn.Linear(10240, 16)\n",
    "        self.fc_2 = nn.Linear(16, 16)\n",
    "        self.layer_norm = nn.LayerNorm(16)\n",
    "        self.act_fn = nn.GELU()\n",
    "        \n",
    "    def forward(self, x):\n",
    "        y = self.dropout(x)\n",
    "        y = self.fc_1(y)\n",
    "        res = y\n",
    "        y = self.dropout(y)\n",
    "        y = self.act_fn(y)\n",
    "        y = self.fc_2(y)\n",
    "        y = self.act_fn(y)\n",
    "        y = res + y\n",
    "        y = self.layer_norm(y)\n",
    "        y = y.view(-1, 4, 4)\n",
    "        return y"
   ]
  },
  {
   "cell_type": "code",
   "execution_count": 30,
   "id": "399dcff8",
   "metadata": {},
   "outputs": [],
   "source": [
    "proj_to_adj_matrix = IntoAdjMatrix()"
   ]
  },
  {
   "cell_type": "code",
   "execution_count": 31,
   "id": "468840c1",
   "metadata": {},
   "outputs": [
    {
     "ename": "RuntimeError",
     "evalue": "mat1 and mat2 shapes cannot be multiplied (1x7680 and 10240x16)",
     "output_type": "error",
     "traceback": [
      "\u001b[0;31m---------------------------------------------------------------------------\u001b[0m",
      "\u001b[0;31mRuntimeError\u001b[0m                              Traceback (most recent call last)",
      "\u001b[0;32m/tmp/ipykernel_11/3807850927.py\u001b[0m in \u001b[0;36m<module>\u001b[0;34m\u001b[0m\n\u001b[0;32m----> 1\u001b[0;31m \u001b[0mproj_to_adj_matrix\u001b[0m\u001b[0;34m(\u001b[0m\u001b[0my\u001b[0m\u001b[0;34m.\u001b[0m\u001b[0mview\u001b[0m\u001b[0;34m(\u001b[0m\u001b[0;36m1\u001b[0m\u001b[0;34m,\u001b[0m \u001b[0;34m-\u001b[0m\u001b[0;36m1\u001b[0m\u001b[0;34m)\u001b[0m\u001b[0;34m)\u001b[0m\u001b[0;34m\u001b[0m\u001b[0;34m\u001b[0m\u001b[0m\n\u001b[0m",
      "\u001b[0;32m/usr/local/lib/python3.7/site-packages/torch/nn/modules/module.py\u001b[0m in \u001b[0;36m_call_impl\u001b[0;34m(self, *input, **kwargs)\u001b[0m\n\u001b[1;32m    725\u001b[0m             \u001b[0mresult\u001b[0m \u001b[0;34m=\u001b[0m \u001b[0mself\u001b[0m\u001b[0;34m.\u001b[0m\u001b[0m_slow_forward\u001b[0m\u001b[0;34m(\u001b[0m\u001b[0;34m*\u001b[0m\u001b[0minput\u001b[0m\u001b[0;34m,\u001b[0m \u001b[0;34m**\u001b[0m\u001b[0mkwargs\u001b[0m\u001b[0;34m)\u001b[0m\u001b[0;34m\u001b[0m\u001b[0;34m\u001b[0m\u001b[0m\n\u001b[1;32m    726\u001b[0m         \u001b[0;32melse\u001b[0m\u001b[0;34m:\u001b[0m\u001b[0;34m\u001b[0m\u001b[0;34m\u001b[0m\u001b[0m\n\u001b[0;32m--> 727\u001b[0;31m             \u001b[0mresult\u001b[0m \u001b[0;34m=\u001b[0m \u001b[0mself\u001b[0m\u001b[0;34m.\u001b[0m\u001b[0mforward\u001b[0m\u001b[0;34m(\u001b[0m\u001b[0;34m*\u001b[0m\u001b[0minput\u001b[0m\u001b[0;34m,\u001b[0m \u001b[0;34m**\u001b[0m\u001b[0mkwargs\u001b[0m\u001b[0;34m)\u001b[0m\u001b[0;34m\u001b[0m\u001b[0;34m\u001b[0m\u001b[0m\n\u001b[0m\u001b[1;32m    728\u001b[0m         for hook in itertools.chain(\n\u001b[1;32m    729\u001b[0m                 \u001b[0m_global_forward_hooks\u001b[0m\u001b[0;34m.\u001b[0m\u001b[0mvalues\u001b[0m\u001b[0;34m(\u001b[0m\u001b[0;34m)\u001b[0m\u001b[0;34m,\u001b[0m\u001b[0;34m\u001b[0m\u001b[0;34m\u001b[0m\u001b[0m\n",
      "\u001b[0;32m/tmp/ipykernel_11/246031963.py\u001b[0m in \u001b[0;36mforward\u001b[0;34m(self, x)\u001b[0m\n\u001b[1;32m     10\u001b[0m     \u001b[0;32mdef\u001b[0m \u001b[0mforward\u001b[0m\u001b[0;34m(\u001b[0m\u001b[0mself\u001b[0m\u001b[0;34m,\u001b[0m \u001b[0mx\u001b[0m\u001b[0;34m)\u001b[0m\u001b[0;34m:\u001b[0m\u001b[0;34m\u001b[0m\u001b[0;34m\u001b[0m\u001b[0m\n\u001b[1;32m     11\u001b[0m         \u001b[0my\u001b[0m \u001b[0;34m=\u001b[0m \u001b[0mself\u001b[0m\u001b[0;34m.\u001b[0m\u001b[0mdropout\u001b[0m\u001b[0;34m(\u001b[0m\u001b[0mx\u001b[0m\u001b[0;34m)\u001b[0m\u001b[0;34m\u001b[0m\u001b[0;34m\u001b[0m\u001b[0m\n\u001b[0;32m---> 12\u001b[0;31m         \u001b[0my\u001b[0m \u001b[0;34m=\u001b[0m \u001b[0mself\u001b[0m\u001b[0;34m.\u001b[0m\u001b[0mfc_1\u001b[0m\u001b[0;34m(\u001b[0m\u001b[0my\u001b[0m\u001b[0;34m)\u001b[0m\u001b[0;34m\u001b[0m\u001b[0;34m\u001b[0m\u001b[0m\n\u001b[0m\u001b[1;32m     13\u001b[0m         \u001b[0mres\u001b[0m \u001b[0;34m=\u001b[0m \u001b[0my\u001b[0m\u001b[0;34m\u001b[0m\u001b[0;34m\u001b[0m\u001b[0m\n\u001b[1;32m     14\u001b[0m         \u001b[0my\u001b[0m \u001b[0;34m=\u001b[0m \u001b[0mself\u001b[0m\u001b[0;34m.\u001b[0m\u001b[0mdropout\u001b[0m\u001b[0;34m(\u001b[0m\u001b[0my\u001b[0m\u001b[0;34m)\u001b[0m\u001b[0;34m\u001b[0m\u001b[0;34m\u001b[0m\u001b[0m\n",
      "\u001b[0;32m/usr/local/lib/python3.7/site-packages/torch/nn/modules/module.py\u001b[0m in \u001b[0;36m_call_impl\u001b[0;34m(self, *input, **kwargs)\u001b[0m\n\u001b[1;32m    725\u001b[0m             \u001b[0mresult\u001b[0m \u001b[0;34m=\u001b[0m \u001b[0mself\u001b[0m\u001b[0;34m.\u001b[0m\u001b[0m_slow_forward\u001b[0m\u001b[0;34m(\u001b[0m\u001b[0;34m*\u001b[0m\u001b[0minput\u001b[0m\u001b[0;34m,\u001b[0m \u001b[0;34m**\u001b[0m\u001b[0mkwargs\u001b[0m\u001b[0;34m)\u001b[0m\u001b[0;34m\u001b[0m\u001b[0;34m\u001b[0m\u001b[0m\n\u001b[1;32m    726\u001b[0m         \u001b[0;32melse\u001b[0m\u001b[0;34m:\u001b[0m\u001b[0;34m\u001b[0m\u001b[0;34m\u001b[0m\u001b[0m\n\u001b[0;32m--> 727\u001b[0;31m             \u001b[0mresult\u001b[0m \u001b[0;34m=\u001b[0m \u001b[0mself\u001b[0m\u001b[0;34m.\u001b[0m\u001b[0mforward\u001b[0m\u001b[0;34m(\u001b[0m\u001b[0;34m*\u001b[0m\u001b[0minput\u001b[0m\u001b[0;34m,\u001b[0m \u001b[0;34m**\u001b[0m\u001b[0mkwargs\u001b[0m\u001b[0;34m)\u001b[0m\u001b[0;34m\u001b[0m\u001b[0;34m\u001b[0m\u001b[0m\n\u001b[0m\u001b[1;32m    728\u001b[0m         for hook in itertools.chain(\n\u001b[1;32m    729\u001b[0m                 \u001b[0m_global_forward_hooks\u001b[0m\u001b[0;34m.\u001b[0m\u001b[0mvalues\u001b[0m\u001b[0;34m(\u001b[0m\u001b[0;34m)\u001b[0m\u001b[0;34m,\u001b[0m\u001b[0;34m\u001b[0m\u001b[0;34m\u001b[0m\u001b[0m\n",
      "\u001b[0;32m/usr/local/lib/python3.7/site-packages/torch/nn/modules/linear.py\u001b[0m in \u001b[0;36mforward\u001b[0;34m(self, input)\u001b[0m\n\u001b[1;32m     91\u001b[0m \u001b[0;34m\u001b[0m\u001b[0m\n\u001b[1;32m     92\u001b[0m     \u001b[0;32mdef\u001b[0m \u001b[0mforward\u001b[0m\u001b[0;34m(\u001b[0m\u001b[0mself\u001b[0m\u001b[0;34m,\u001b[0m \u001b[0minput\u001b[0m\u001b[0;34m:\u001b[0m \u001b[0mTensor\u001b[0m\u001b[0;34m)\u001b[0m \u001b[0;34m->\u001b[0m \u001b[0mTensor\u001b[0m\u001b[0;34m:\u001b[0m\u001b[0;34m\u001b[0m\u001b[0;34m\u001b[0m\u001b[0m\n\u001b[0;32m---> 93\u001b[0;31m         \u001b[0;32mreturn\u001b[0m \u001b[0mF\u001b[0m\u001b[0;34m.\u001b[0m\u001b[0mlinear\u001b[0m\u001b[0;34m(\u001b[0m\u001b[0minput\u001b[0m\u001b[0;34m,\u001b[0m \u001b[0mself\u001b[0m\u001b[0;34m.\u001b[0m\u001b[0mweight\u001b[0m\u001b[0;34m,\u001b[0m \u001b[0mself\u001b[0m\u001b[0;34m.\u001b[0m\u001b[0mbias\u001b[0m\u001b[0;34m)\u001b[0m\u001b[0;34m\u001b[0m\u001b[0;34m\u001b[0m\u001b[0m\n\u001b[0m\u001b[1;32m     94\u001b[0m \u001b[0;34m\u001b[0m\u001b[0m\n\u001b[1;32m     95\u001b[0m     \u001b[0;32mdef\u001b[0m \u001b[0mextra_repr\u001b[0m\u001b[0;34m(\u001b[0m\u001b[0mself\u001b[0m\u001b[0;34m)\u001b[0m \u001b[0;34m->\u001b[0m \u001b[0mstr\u001b[0m\u001b[0;34m:\u001b[0m\u001b[0;34m\u001b[0m\u001b[0;34m\u001b[0m\u001b[0m\n",
      "\u001b[0;32m/usr/local/lib/python3.7/site-packages/torch/nn/functional.py\u001b[0m in \u001b[0;36mlinear\u001b[0;34m(input, weight, bias)\u001b[0m\n\u001b[1;32m   1688\u001b[0m     \u001b[0;32mif\u001b[0m \u001b[0minput\u001b[0m\u001b[0;34m.\u001b[0m\u001b[0mdim\u001b[0m\u001b[0;34m(\u001b[0m\u001b[0;34m)\u001b[0m \u001b[0;34m==\u001b[0m \u001b[0;36m2\u001b[0m \u001b[0;32mand\u001b[0m \u001b[0mbias\u001b[0m \u001b[0;32mis\u001b[0m \u001b[0;32mnot\u001b[0m \u001b[0;32mNone\u001b[0m\u001b[0;34m:\u001b[0m\u001b[0;34m\u001b[0m\u001b[0;34m\u001b[0m\u001b[0m\n\u001b[1;32m   1689\u001b[0m         \u001b[0;31m# fused op is marginally faster\u001b[0m\u001b[0;34m\u001b[0m\u001b[0;34m\u001b[0m\u001b[0;34m\u001b[0m\u001b[0m\n\u001b[0;32m-> 1690\u001b[0;31m         \u001b[0mret\u001b[0m \u001b[0;34m=\u001b[0m \u001b[0mtorch\u001b[0m\u001b[0;34m.\u001b[0m\u001b[0maddmm\u001b[0m\u001b[0;34m(\u001b[0m\u001b[0mbias\u001b[0m\u001b[0;34m,\u001b[0m \u001b[0minput\u001b[0m\u001b[0;34m,\u001b[0m \u001b[0mweight\u001b[0m\u001b[0;34m.\u001b[0m\u001b[0mt\u001b[0m\u001b[0;34m(\u001b[0m\u001b[0;34m)\u001b[0m\u001b[0;34m)\u001b[0m\u001b[0;34m\u001b[0m\u001b[0;34m\u001b[0m\u001b[0m\n\u001b[0m\u001b[1;32m   1691\u001b[0m     \u001b[0;32melse\u001b[0m\u001b[0;34m:\u001b[0m\u001b[0;34m\u001b[0m\u001b[0;34m\u001b[0m\u001b[0m\n\u001b[1;32m   1692\u001b[0m         \u001b[0moutput\u001b[0m \u001b[0;34m=\u001b[0m \u001b[0minput\u001b[0m\u001b[0;34m.\u001b[0m\u001b[0mmatmul\u001b[0m\u001b[0;34m(\u001b[0m\u001b[0mweight\u001b[0m\u001b[0;34m.\u001b[0m\u001b[0mt\u001b[0m\u001b[0;34m(\u001b[0m\u001b[0;34m)\u001b[0m\u001b[0;34m)\u001b[0m\u001b[0;34m\u001b[0m\u001b[0;34m\u001b[0m\u001b[0m\n",
      "\u001b[0;31mRuntimeError\u001b[0m: mat1 and mat2 shapes cannot be multiplied (1x7680 and 10240x16)"
     ]
    }
   ],
   "source": [
    "proj_to_adj_matrix(y.view(1, -1))"
   ]
  },
  {
   "cell_type": "code",
   "execution_count": 154,
   "id": "d375c220",
   "metadata": {},
   "outputs": [],
   "source": [
    "class IntoEntityEmbeddings(nn.Module):\n",
    "    def __init__(self):\n",
    "        super().__init__()\n",
    "        self.lin_1 = nn.Linear(10240, 400)\n",
    "        \n",
    "    def forward(self, x):\n",
    "        y = self.lin_1(x)\n",
    "        y = y.view(-1, 4, 100)\n",
    "        return y"
   ]
  },
  {
   "cell_type": "code",
   "execution_count": 155,
   "id": "12713e65",
   "metadata": {},
   "outputs": [],
   "source": [
    "proj_to_entity_embeddings = IntoEntityEmbeddings()"
   ]
  },
  {
   "cell_type": "code",
   "execution_count": 156,
   "id": "063dc110",
   "metadata": {
    "scrolled": true
   },
   "outputs": [
    {
     "data": {
      "text/plain": [
       "tensor([[[-4.6999e-02,  6.8538e-02,  1.5676e-02, -4.6299e-02, -1.6727e-02,\n",
       "           8.9616e-02,  1.4776e-01, -6.1008e-04,  2.9207e-03,  1.9291e-02,\n",
       "          -7.8850e-02, -6.0686e-02,  7.7052e-02,  4.6651e-02, -1.5538e-01,\n",
       "          -3.2471e-02,  7.9341e-02,  9.7726e-02,  8.7774e-02, -2.8457e-02,\n",
       "           3.1182e-02,  9.6361e-02,  2.2449e-02,  2.3355e-03, -2.9135e-02,\n",
       "          -1.8153e-02,  5.4045e-02, -1.3971e-01,  5.4565e-03, -1.3574e-02,\n",
       "           1.3266e-02,  9.4804e-02,  4.3338e-03, -4.9723e-02,  1.0478e-01,\n",
       "          -4.6793e-03,  1.2139e-01, -1.3856e-02, -2.4786e-02, -5.0878e-03,\n",
       "          -5.0077e-02,  1.2187e-01, -9.2251e-03, -2.7631e-02, -5.4822e-02,\n",
       "           8.6438e-04, -1.3114e-02,  9.0280e-04, -1.0216e-01, -2.9567e-02,\n",
       "          -5.5152e-02,  6.3946e-02,  3.9063e-02,  9.6491e-02, -7.3262e-03,\n",
       "          -1.2501e-02,  2.0945e-02,  3.6878e-02,  4.3985e-02, -6.8632e-02,\n",
       "           2.4357e-02, -5.9271e-02,  4.5543e-02,  1.1573e-01,  4.1075e-02,\n",
       "          -6.6730e-02,  2.9069e-03, -4.1927e-02,  9.8166e-02,  1.0961e-01,\n",
       "           3.5889e-02, -6.1420e-02, -5.1594e-02,  8.1072e-02, -3.4580e-02,\n",
       "          -6.5975e-02, -8.0375e-02, -1.1978e-04, -2.4621e-02,  1.1645e-01,\n",
       "          -5.0770e-02,  1.8387e-01,  7.6667e-02,  5.0116e-02, -1.5656e-02,\n",
       "           1.0420e-01,  1.9368e-02, -2.2708e-02,  6.3210e-03, -9.4165e-02,\n",
       "           1.9775e-02, -1.0569e-02,  7.2480e-02, -4.9934e-02,  1.1965e-01,\n",
       "           4.0794e-02,  7.0978e-03, -2.6380e-02, -4.0453e-02, -8.6853e-02],\n",
       "         [-9.7265e-02,  6.9058e-02,  9.4711e-03, -6.1669e-02,  2.5476e-02,\n",
       "          -5.8525e-02,  6.5175e-02,  1.3376e-01, -1.7967e-02,  6.5301e-02,\n",
       "          -2.0608e-02,  1.0951e-01,  8.8283e-03,  7.3951e-02,  3.4240e-02,\n",
       "           9.8405e-02,  3.4077e-02, -5.0032e-02, -6.5471e-02,  2.3376e-02,\n",
       "          -5.0669e-02,  4.4488e-02,  5.0901e-02,  3.9486e-02,  4.3306e-02,\n",
       "          -1.4530e-01, -2.8077e-03, -6.9370e-02, -1.1618e-02,  5.5094e-02,\n",
       "          -1.0889e-03, -1.5923e-02,  2.9927e-02,  5.7270e-02,  5.0193e-02,\n",
       "           7.5049e-02,  5.2877e-02,  6.2114e-03, -1.2874e-01, -1.9258e-02,\n",
       "           8.1063e-02,  1.1768e-01, -1.7705e-02,  1.3274e-01, -1.0613e-01,\n",
       "           1.2666e-01,  5.1408e-02, -2.6159e-02, -1.5577e-02, -3.1813e-02,\n",
       "          -3.6776e-02, -1.2190e-02,  2.1699e-03, -2.7188e-02,  1.7196e-01,\n",
       "          -7.7097e-02, -2.1588e-01, -4.5960e-02,  1.3540e-01, -9.5959e-03,\n",
       "          -6.9506e-03, -3.0437e-02,  1.2640e-02,  1.1798e-01,  2.4206e-01,\n",
       "          -1.6070e-02, -7.7502e-02,  8.7099e-02, -3.9253e-02,  2.1618e-02,\n",
       "           4.5456e-02, -9.6819e-02,  4.0312e-02,  8.3977e-02,  6.1019e-02,\n",
       "          -2.3627e-02, -2.9897e-02,  2.6515e-02, -1.3191e-01,  8.6764e-02,\n",
       "          -4.0076e-02,  5.4279e-03,  5.0715e-02,  1.3031e-01, -3.1644e-02,\n",
       "          -2.4497e-02,  3.6104e-02, -1.0930e-01,  1.2107e-01, -1.9187e-01,\n",
       "           1.1019e-02,  2.5331e-02,  3.1833e-02,  6.3129e-03, -8.5815e-02,\n",
       "           3.1496e-02,  6.3834e-02,  5.7662e-03,  8.4139e-02, -3.2483e-02],\n",
       "         [ 5.5738e-02,  1.0146e-01,  5.0921e-02, -5.4891e-05,  3.5489e-02,\n",
       "          -1.6997e-02, -4.5159e-02,  1.3185e-01, -1.4243e-03, -3.1220e-02,\n",
       "           3.4789e-02,  3.2871e-02, -9.2032e-02,  4.9766e-03, -6.3361e-03,\n",
       "           4.0372e-02, -5.7891e-03, -7.9569e-02,  9.4529e-02,  1.0762e-02,\n",
       "          -5.5531e-02, -1.3753e-01, -4.9097e-02, -3.5405e-02, -7.8548e-03,\n",
       "           5.7926e-02, -9.3816e-02,  1.1851e-01, -4.7626e-02, -3.7467e-03,\n",
       "          -6.6424e-03,  2.8775e-02,  6.2981e-02, -1.7757e-02,  1.6081e-01,\n",
       "          -2.9319e-02, -7.2159e-02,  1.5317e-03,  5.3886e-03, -6.3984e-02,\n",
       "          -3.4168e-02,  2.0248e-02, -1.6352e-02,  6.1182e-02, -7.0936e-02,\n",
       "          -1.0422e-01,  6.0401e-02, -1.4680e-01, -2.8264e-02,  1.5881e-01,\n",
       "           1.0447e-02, -5.7518e-02,  1.2175e-03,  1.1209e-02, -1.9724e-02,\n",
       "           9.4988e-02,  9.5210e-03,  3.3866e-02, -1.6942e-02,  7.1215e-02,\n",
       "           5.7878e-02,  3.6800e-03, -4.7022e-02,  9.8548e-02,  1.5999e-01,\n",
       "           3.5612e-02, -2.2229e-01, -1.5712e-02,  1.2158e-01, -9.6095e-02,\n",
       "          -7.7228e-03,  1.1148e-02,  6.8965e-02,  3.3123e-02, -1.3763e-01,\n",
       "           4.9285e-02,  2.4018e-02, -1.6508e-02,  2.6099e-02, -5.2938e-02,\n",
       "           3.3735e-02, -6.8514e-03,  1.2686e-01, -2.8015e-02,  1.1324e-01,\n",
       "          -7.0338e-02,  7.4783e-02, -8.7344e-02,  1.2767e-01,  1.2781e-01,\n",
       "          -3.4460e-02, -1.0741e-01,  4.5720e-02,  1.7422e-02,  9.7582e-02,\n",
       "          -1.9309e-01, -1.5946e-02, -1.0369e-01,  1.2861e-02, -5.6332e-02],\n",
       "         [ 1.1908e-02, -5.5318e-02, -2.5770e-02,  1.1787e-01, -1.6527e-02,\n",
       "           7.7617e-02, -2.5901e-02, -2.9862e-02, -1.0097e-02,  2.5994e-02,\n",
       "          -9.7547e-02, -1.7703e-01, -2.4757e-02,  2.7265e-02, -1.7068e-02,\n",
       "          -7.9985e-02,  5.9426e-02,  1.1050e-02,  3.9852e-02, -3.0451e-02,\n",
       "           6.5609e-02, -7.0015e-02, -3.3090e-02,  1.3759e-01,  1.7757e-02,\n",
       "          -6.4371e-02,  7.0328e-03,  1.0738e-01,  5.0095e-03, -8.0908e-03,\n",
       "          -1.2427e-01,  1.5837e-01, -1.7466e-02,  5.9410e-02,  1.1120e-02,\n",
       "          -2.2263e-02, -3.3890e-02,  5.7282e-02,  7.4903e-04,  1.7541e-02,\n",
       "           2.5133e-03, -6.0992e-03, -1.7236e-02, -3.1265e-02, -2.9434e-02,\n",
       "          -9.4647e-02, -3.5140e-02,  1.9183e-02,  5.6590e-02, -1.2841e-01,\n",
       "          -7.9107e-02,  3.3253e-02,  4.1442e-02,  2.1865e-02, -5.4216e-02,\n",
       "          -1.5422e-01,  1.1584e-01, -5.6892e-02, -9.8492e-02, -4.3163e-02,\n",
       "           9.2770e-02, -3.0956e-02, -4.7537e-03, -4.6472e-02,  6.6459e-03,\n",
       "          -1.3423e-01, -8.6146e-02, -2.1416e-02, -5.8223e-02, -5.0422e-02,\n",
       "           1.9359e-02, -4.6106e-02,  2.9402e-02,  8.1462e-03, -1.1483e-01,\n",
       "           7.6503e-02, -4.3981e-02, -1.1508e-01,  1.2428e-01,  1.8277e-01,\n",
       "          -5.3228e-02,  3.9218e-02,  3.2100e-02,  4.6581e-02, -5.9979e-02,\n",
       "          -7.8639e-02, -2.1071e-02, -3.2880e-02, -5.5269e-02, -7.9475e-02,\n",
       "           1.1214e-01,  3.9643e-03, -7.9161e-02,  2.1384e-02, -4.2833e-02,\n",
       "          -5.1416e-02, -8.6477e-02,  2.7922e-02, -3.0602e-02, -5.0493e-03]]],\n",
       "       grad_fn=<ViewBackward>)"
      ]
     },
     "execution_count": 156,
     "metadata": {},
     "output_type": "execute_result"
    }
   ],
   "source": [
    "proj_to_entity_embeddings(y.view(1, -1))"
   ]
  },
  {
   "cell_type": "code",
   "execution_count": null,
   "id": "e4319889",
   "metadata": {},
   "outputs": [],
   "source": []
  }
 ],
 "metadata": {
  "kernelspec": {
   "display_name": "Python 3 (ipykernel)",
   "language": "python",
   "name": "python3"
  },
  "language_info": {
   "codemirror_mode": {
    "name": "ipython",
    "version": 3
   },
   "file_extension": ".py",
   "mimetype": "text/x-python",
   "name": "python",
   "nbconvert_exporter": "python",
   "pygments_lexer": "ipython3",
   "version": "3.7.9"
  }
 },
 "nbformat": 4,
 "nbformat_minor": 5
}

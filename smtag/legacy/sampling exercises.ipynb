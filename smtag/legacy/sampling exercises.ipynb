{
 "cells": [
  {
   "cell_type": "code",
   "execution_count": 1,
   "id": "6d3f2d26",
   "metadata": {},
   "outputs": [],
   "source": [
    "import torch\n",
    "from torch import distributions as distro\n",
    "from random import choices, sample, gauss\n",
    "from itertools import combinations, permutations, combinations_with_replacement, product"
   ]
  },
  {
   "cell_type": "code",
   "execution_count": null,
   "id": "0fee7453",
   "metadata": {},
   "outputs": [],
   "source": [
    "torch."
   ]
  },
  {
   "cell_type": "code",
   "execution_count": 10,
   "id": "29a0ef8f",
   "metadata": {},
   "outputs": [],
   "source": [
    "def sample_entity_subset(N_max, mu=3, sigma=0):\n",
    "    N = min(N_max, round(gauss(mu, sigma)))\n",
    "    entities = sample(list(range(N_max)), k=N)\n",
    "    return entities"
   ]
  },
  {
   "cell_type": "code",
   "execution_count": 11,
   "id": "2f5ee8a3",
   "metadata": {},
   "outputs": [
    {
     "data": {
      "text/plain": [
       "[4, 0, 1, 2]"
      ]
     },
     "execution_count": 11,
     "metadata": {},
     "output_type": "execute_result"
    }
   ],
   "source": [
    "sample_entity_subset(6, 4, 0)"
   ]
  },
  {
   "cell_type": "code",
   "execution_count": 12,
   "id": "c6994349",
   "metadata": {},
   "outputs": [],
   "source": [
    "def sample_interactions(N_max, N_entities, N_interactions):\n",
    "    entity_subset = sample_entity_subset(N_max, mu=N_entities)\n",
    "    comb = list(product(entity_subset, entity_subset))\n",
    "    z = torch.zeros(N_max, N_max)\n",
    "    num_interactions = min(round(gauss(mu=N_interactions, sigma=0)), len(entity_subset)**2)\n",
    "    try:\n",
    "        coord = sample(comb, k=num_interactions)\n",
    "    except ValueError as e:\n",
    "        print(e)\n",
    "        print(f\"k={num_interactions}, entity_subset={entity_subset}\")\n",
    "        return\n",
    "    z[list(zip(*coord))] = 1.0\n",
    "    return z, entity_subset"
   ]
  },
  {
   "cell_type": "code",
   "execution_count": 13,
   "id": "cbadfcc1",
   "metadata": {},
   "outputs": [
    {
     "data": {
      "text/plain": [
       "(tensor([[0., 0., 1., 0., 0., 0.],\n",
       "         [0., 0., 0., 1., 1., 0.],\n",
       "         [0., 0., 0., 0., 1., 0.],\n",
       "         [1., 1., 0., 0., 0., 0.],\n",
       "         [0., 0., 1., 0., 0., 1.],\n",
       "         [0., 0., 0., 0., 0., 0.]]),\n",
       " [4, 5, 2, 3, 1, 0])"
      ]
     },
     "execution_count": 13,
     "metadata": {},
     "output_type": "execute_result"
    }
   ],
   "source": [
    "sample_interactions(6, 6, 8)"
   ]
  },
  {
   "cell_type": "code",
   "execution_count": 14,
   "id": "908ef937",
   "metadata": {},
   "outputs": [],
   "source": [
    "def sample_node_labels(N_entities, entity_subset, M_features=10):\n",
    "    p = torch.full([N_entities, M_features], 0.5)\n",
    "    u = torch.bernoulli(p)\n",
    "    v = torch.zeros(N_entities, M_features)\n",
    "    v[entity_subset] = u[entity_subset]\n",
    "    return v"
   ]
  },
  {
   "cell_type": "code",
   "execution_count": 19,
   "id": "c34b4b39",
   "metadata": {},
   "outputs": [],
   "source": [
    "def interaction_samples(N_max, N_entities, N_interactions, M_features, iterations=10):\n",
    "    interactions = []\n",
    "    node_labels = []\n",
    "    for i in range(iterations):\n",
    "        z1, entity_subset = sample_interactions(N_max, N_entities, N_interactions)\n",
    "        interactions.append(z1.unsqueeze(0))\n",
    "        z2 = sample_node_labels(N_max, entity_subset, M_features)\n",
    "        node_labels.append(z2.unsqueeze(0))\n",
    "    interactions = torch.cat(interactions, 0)\n",
    "    node_labels = torch.cat(node_labels, 0)\n",
    "    return interactions, node_labels"
   ]
  },
  {
   "cell_type": "code",
   "execution_count": 20,
   "id": "d5a95bdb",
   "metadata": {},
   "outputs": [
    {
     "data": {
      "text/plain": [
       "(tensor([[[0., 0., 0., 0., 0., 0.],\n",
       "          [1., 1., 0., 0., 0., 0.],\n",
       "          [0., 0., 0., 0., 0., 0.],\n",
       "          [0., 0., 0., 0., 0., 0.],\n",
       "          [0., 1., 0., 0., 0., 0.],\n",
       "          [0., 0., 0., 0., 0., 0.]],\n",
       " \n",
       "         [[0., 0., 0., 0., 0., 0.],\n",
       "          [0., 0., 1., 0., 0., 0.],\n",
       "          [0., 0., 0., 0., 0., 0.],\n",
       "          [0., 0., 0., 0., 0., 0.],\n",
       "          [0., 0., 1., 0., 0., 0.],\n",
       "          [0., 0., 1., 0., 0., 0.]],\n",
       " \n",
       "         [[1., 0., 0., 0., 1., 0.],\n",
       "          [0., 0., 0., 0., 0., 0.],\n",
       "          [0., 0., 0., 0., 0., 0.],\n",
       "          [0., 0., 0., 0., 0., 0.],\n",
       "          [0., 0., 0., 0., 0., 1.],\n",
       "          [0., 0., 0., 0., 0., 0.]]]),\n",
       " tensor([[[1., 0., 0., 1., 0., 1., 0., 0., 0., 0.],\n",
       "          [1., 1., 1., 0., 1., 1., 1., 0., 1., 1.],\n",
       "          [0., 0., 0., 0., 0., 0., 0., 0., 0., 0.],\n",
       "          [0., 0., 0., 0., 0., 0., 0., 0., 0., 0.],\n",
       "          [0., 0., 1., 0., 0., 1., 1., 1., 1., 1.],\n",
       "          [1., 0., 1., 1., 1., 0., 0., 1., 1., 1.]],\n",
       " \n",
       "         [[0., 0., 0., 0., 0., 0., 0., 0., 0., 0.],\n",
       "          [0., 1., 0., 0., 1., 1., 1., 0., 0., 1.],\n",
       "          [0., 0., 0., 1., 1., 0., 0., 1., 0., 1.],\n",
       "          [0., 0., 0., 0., 0., 0., 0., 0., 0., 0.],\n",
       "          [1., 0., 1., 0., 1., 1., 0., 1., 1., 0.],\n",
       "          [1., 1., 1., 1., 1., 0., 0., 1., 1., 0.]],\n",
       " \n",
       "         [[1., 1., 0., 0., 1., 1., 1., 1., 0., 1.],\n",
       "          [1., 1., 0., 1., 1., 1., 1., 0., 1., 0.],\n",
       "          [0., 0., 0., 0., 0., 0., 0., 0., 0., 0.],\n",
       "          [0., 0., 0., 0., 0., 0., 0., 0., 0., 0.],\n",
       "          [1., 0., 1., 1., 0., 0., 1., 1., 0., 1.],\n",
       "          [1., 0., 1., 1., 0., 1., 0., 1., 0., 0.]]]))"
      ]
     },
     "execution_count": 20,
     "metadata": {},
     "output_type": "execute_result"
    }
   ],
   "source": [
    "z1 = interaction_samples(6, 4, 3, 10, 3)\n",
    "z1"
   ]
  },
  {
   "cell_type": "code",
   "execution_count": 652,
   "id": "b2c1311b",
   "metadata": {},
   "outputs": [
    {
     "data": {
      "text/plain": [
       "tensor([[[0., 1., 0., 0., 1., 1.],\n",
       "         [0., 0., 0., 0., 0., 1.],\n",
       "         [0., 0., 1., 1., 0., 0.],\n",
       "         [0., 1., 0., 0., 0., 0.],\n",
       "         [1., 0., 0., 0., 1., 0.],\n",
       "         [0., 0., 1., 1., 1., 0.]],\n",
       "\n",
       "        [[0., 1., 0., 0., 0., 0.],\n",
       "         [0., 1., 1., 1., 1., 0.],\n",
       "         [1., 0., 0., 0., 0., 0.],\n",
       "         [0., 1., 1., 1., 0., 0.],\n",
       "         [0., 1., 1., 0., 0., 0.],\n",
       "         [0., 0., 0., 1., 0., 0.]],\n",
       "\n",
       "        [[0., 0., 1., 1., 0., 0.],\n",
       "         [0., 1., 0., 0., 0., 0.],\n",
       "         [1., 0., 1., 0., 0., 0.],\n",
       "         [0., 0., 0., 0., 1., 1.],\n",
       "         [0., 1., 0., 0., 1., 0.],\n",
       "         [1., 0., 0., 0., 1., 1.]]])"
      ]
     },
     "execution_count": 652,
     "metadata": {},
     "output_type": "execute_result"
    }
   ],
   "source": [
    "z2 = true_interaction_samples(6, 6, 12, 3)\n",
    "z2"
   ]
  },
  {
   "cell_type": "code",
   "execution_count": 7,
   "id": "3dea2d77",
   "metadata": {},
   "outputs": [
    {
     "data": {
      "text/plain": [
       "tensor([[1., 1., 1., 1., 0., 0., 0., 1., 0., 1.],\n",
       "        [0., 0., 0., 0., 0., 0., 0., 0., 0., 0.],\n",
       "        [0., 0., 0., 0., 0., 0., 0., 0., 0., 0.],\n",
       "        [0., 0., 0., 0., 0., 1., 0., 1., 0., 1.],\n",
       "        [1., 0., 1., 0., 0., 0., 0., 0., 0., 1.],\n",
       "        [0., 0., 0., 0., 0., 0., 0., 0., 0., 0.]])"
      ]
     },
     "execution_count": 7,
     "metadata": {},
     "output_type": "execute_result"
    }
   ],
   "source": [
    "sample_node_labels(6, [0, 3, 4])"
   ]
  },
  {
   "cell_type": "code",
   "execution_count": 636,
   "id": "0aa31d77",
   "metadata": {},
   "outputs": [],
   "source": [
    "def true_node_label_samples(N_entities, entity_subset, M_features, iterations):\n",
    "    samples = []\n",
    "    for i in range(iterations):\n",
    "        z = sample_node_labels(N_entities, entity_subset, M_features)\n",
    "        samples.append(z.unsqueeze(0))\n",
    "    samples = torch.cat(samples, 0)\n",
    "    return samples"
   ]
  },
  {
   "cell_type": "code",
   "execution_count": 673,
   "id": "4f8c41a9",
   "metadata": {},
   "outputs": [
    {
     "data": {
      "text/plain": [
       "tensor([[[0., 0., 0., 1., 1., 0., 1., 0., 0., 1.],\n",
       "         [0., 0., 0., 1., 0., 0., 0., 1., 1., 0.],\n",
       "         [1., 0., 0., 1., 0., 0., 0., 0., 1., 0.],\n",
       "         [0., 1., 0., 0., 0., 1., 1., 0., 1., 0.],\n",
       "         [1., 1., 1., 0., 0., 0., 0., 0., 1., 0.]],\n",
       "\n",
       "        [[0., 0., 0., 1., 0., 1., 0., 1., 0., 0.],\n",
       "         [1., 1., 1., 0., 0., 1., 1., 0., 1., 0.],\n",
       "         [0., 0., 0., 1., 0., 1., 0., 0., 0., 1.],\n",
       "         [1., 1., 1., 1., 1., 0., 0., 0., 1., 1.],\n",
       "         [0., 0., 0., 0., 1., 0., 1., 1., 1., 1.]],\n",
       "\n",
       "        [[0., 0., 0., 0., 0., 1., 1., 1., 1., 0.],\n",
       "         [0., 1., 0., 0., 1., 1., 0., 1., 0., 0.],\n",
       "         [1., 1., 0., 1., 1., 1., 1., 0., 0., 0.],\n",
       "         [1., 1., 0., 0., 1., 1., 0., 0., 0., 1.],\n",
       "         [0., 0., 0., 1., 0., 1., 0., 1., 0., 1.]]])"
      ]
     },
     "execution_count": 673,
     "metadata": {},
     "output_type": "execute_result"
    }
   ],
   "source": [
    "zz1 = true_node_label_samples(5, [0, 1, 4], 10, 3)\n",
    "zz1"
   ]
  },
  {
   "cell_type": "code",
   "execution_count": 674,
   "id": "fd2c886c",
   "metadata": {},
   "outputs": [
    {
     "data": {
      "text/plain": [
       "tensor([[[1., 0., 0., 1., 1., 0., 0., 0., 0., 0.],\n",
       "         [1., 1., 0., 0., 0., 1., 1., 0., 1., 0.],\n",
       "         [1., 0., 1., 1., 0., 0., 1., 1., 1., 1.],\n",
       "         [0., 0., 1., 1., 1., 0., 0., 1., 0., 1.],\n",
       "         [1., 1., 1., 0., 0., 1., 0., 1., 0., 1.]],\n",
       "\n",
       "        [[0., 0., 0., 0., 1., 0., 0., 1., 1., 1.],\n",
       "         [0., 0., 0., 1., 0., 0., 0., 1., 1., 1.],\n",
       "         [0., 1., 1., 0., 0., 1., 1., 0., 0., 0.],\n",
       "         [1., 1., 0., 1., 1., 1., 0., 1., 1., 1.],\n",
       "         [0., 0., 0., 0., 0., 0., 1., 1., 0., 1.]],\n",
       "\n",
       "        [[0., 1., 1., 1., 1., 1., 0., 1., 0., 1.],\n",
       "         [0., 1., 1., 0., 0., 0., 1., 0., 0., 0.],\n",
       "         [0., 0., 1., 1., 0., 1., 0., 0., 1., 0.],\n",
       "         [0., 1., 1., 0., 1., 1., 1., 0., 1., 1.],\n",
       "         [1., 1., 0., 1., 0., 1., 0., 1., 1., 0.]]])"
      ]
     },
     "execution_count": 674,
     "metadata": {},
     "output_type": "execute_result"
    }
   ],
   "source": [
    "zz2 = true_node_label_samples(5, [1, 2, 3, 4], 10, 3)\n",
    "zz2"
   ]
  },
  {
   "cell_type": "code",
   "execution_count": 675,
   "id": "bc73a644",
   "metadata": {},
   "outputs": [],
   "source": [
    "# https://github.com/napsternxg/pytorch-practice/blob/master/Pytorch%20-%20MMD%20VAE.ipynb\n",
    "def compute_kernel(x, y):\n",
    "    x_size = x.size(0)\n",
    "    y_size = y.size(0)\n",
    "    dim = x.size(1)\n",
    "    x = x.unsqueeze(1) # (x_size, 1, dim)\n",
    "    y = y.unsqueeze(0) # (1, y_size, dim)\n",
    "    tiled_x = x.expand(x_size, y_size, dim)\n",
    "    tiled_y = y.expand(x_size, y_size, dim)\n",
    "    kernel_input = (tiled_x - tiled_y).pow(2).mean(2)/float(dim)\n",
    "    return torch.exp(-kernel_input) # (x_size, y_size)\n",
    "\n",
    "def mmd(x, y):\n",
    "    x_kernel = compute_kernel(x, x)\n",
    "    y_kernel = compute_kernel(y, y)\n",
    "    xy_kernel = compute_kernel(x, y)\n",
    "    mmd = x_kernel.mean() + y_kernel.mean() - 2*xy_kernel.mean()\n",
    "    return mmd"
   ]
  },
  {
   "cell_type": "code",
   "execution_count": 676,
   "id": "af589f9a",
   "metadata": {},
   "outputs": [
    {
     "data": {
      "text/plain": [
       "tensor(0.0073)"
      ]
     },
     "execution_count": 676,
     "metadata": {},
     "output_type": "execute_result"
    }
   ],
   "source": [
    "mmd(z1.view(3, -1), z2.view(3, -1))"
   ]
  },
  {
   "cell_type": "code",
   "execution_count": 679,
   "id": "17a96f5a",
   "metadata": {},
   "outputs": [
    {
     "data": {
      "text/plain": [
       "tensor(0.0043)"
      ]
     },
     "execution_count": 679,
     "metadata": {},
     "output_type": "execute_result"
    }
   ],
   "source": [
    "mmd(zz1.view(3, -1), zz2.view(3, -1))"
   ]
  },
  {
   "cell_type": "code",
   "execution_count": null,
   "id": "a1e90b02",
   "metadata": {},
   "outputs": [],
   "source": []
  }
 ],
 "metadata": {
  "kernelspec": {
   "display_name": "Python 3 (ipykernel)",
   "language": "python",
   "name": "python3"
  },
  "language_info": {
   "codemirror_mode": {
    "name": "ipython",
    "version": 3
   },
   "file_extension": ".py",
   "mimetype": "text/x-python",
   "name": "python",
   "nbconvert_exporter": "python",
   "pygments_lexer": "ipython3",
   "version": "3.7.9"
  }
 },
 "nbformat": 4,
 "nbformat_minor": 5
}

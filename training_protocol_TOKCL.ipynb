{
 "cells": [
  {
   "cell_type": "code",
   "execution_count": 19,
   "metadata": {},
   "outputs": [],
   "source": [
    "from pathlib import Path"
   ]
  },
  {
   "cell_type": "code",
   "execution_count": 20,
   "metadata": {},
   "outputs": [
    {
     "data": {
      "text/plain": [
       "Config(vocab_siz=54000, max_length=512, truncation=True, min_char_length=120, split_ratio={'train': 0.7, 'eval': 0.2, 'test': 0.1, 'max_eval': 10000, 'max_test': 10000}, celery_batch_size=1000, from_pretrained='roberta-base', model_type='Autoencoder', tokenizer=PreTrainedTokenizerFast(name_or_path='roberta-base', vocab_size=50265, model_max_len=512, is_fast=True, padding_side='right', special_tokens={'bos_token': '<s>', 'eos_token': '</s>', 'unk_token': '<unk>', 'sep_token': '</s>', 'pad_token': '<pad>', 'cls_token': '<s>', 'mask_token': AddedToken(\"<mask>\", rstrip=False, lstrip=True, single_word=False, normalized=False)}), nlp=<spacy.lang.en.English object at 0x7fd5da5b7550>)"
      ]
     },
     "execution_count": 20,
     "metadata": {},
     "output_type": "execute_result"
    }
   ],
   "source": [
    "from smtag.config import config\n",
    "config"
   ]
  },
  {
   "cell_type": "code",
   "execution_count": 21,
   "metadata": {},
   "outputs": [
    {
     "data": {
      "text/plain": [
       "'4.15.0'"
      ]
     },
     "execution_count": 21,
     "metadata": {},
     "output_type": "execute_result"
    }
   ],
   "source": [
    "from transformers import __version__\n",
    "__version__"
   ]
  },
  {
   "cell_type": "markdown",
   "metadata": {},
   "source": [
    "## Extracting examples for TOKCL"
   ]
  },
  {
   "cell_type": "code",
   "execution_count": 22,
   "metadata": {},
   "outputs": [],
   "source": [
    "from smtag.extract import ExtractorXML"
   ]
  },
  {
   "cell_type": "code",
   "execution_count": 23,
   "metadata": {},
   "outputs": [],
   "source": [
    "corpus = \"/data/xml/191012\"\n",
    "xml_examples = \"/data/text/sd_test\"\n",
    "xpath = \".//sd-panel\"\n",
    "sentence_level = False\n",
    "keep_xml = True\n",
    "inclusion_probability = 1.0"
   ]
  },
  {
   "cell_type": "code",
   "execution_count": 24,
   "metadata": {},
   "outputs": [],
   "source": [
    "# !rm -fr /data/text/sd_test"
   ]
  },
  {
   "cell_type": "code",
   "execution_count": 25,
   "metadata": {
    "scrolled": true
   },
   "outputs": [
    {
     "name": "stdout",
     "output_type": "stream",
     "text": [
      "/data/text/sd_test created\n"
     ]
    }
   ],
   "source": [
    "extractor_tokcl = ExtractorXML(\n",
    "    corpus,\n",
    "    destination_dir=xml_examples,\n",
    "    sentence_level=sentence_level,\n",
    "    xpath=xpath,\n",
    "    keep_xml=keep_xml,\n",
    "    inclusion_probability=inclusion_probability\n",
    ")"
   ]
  },
  {
   "cell_type": "code",
   "execution_count": 26,
   "metadata": {},
   "outputs": [
    {
     "name": "stderr",
     "output_type": "stream",
     "text": [
      "100%|██████████| 1/1 [00:24<00:00, 24.07s/it]\n",
      "100%|██████████| 1/1 [00:06<00:00,  6.96s/it]\n",
      "100%|██████████| 1/1 [00:03<00:00,  3.93s/it]\n"
     ]
    },
    {
     "data": {
      "text/plain": [
       "{PosixPath('/data/text/sd_test/train.txt'): 15859,\n",
       " PosixPath('/data/text/sd_test/eval.txt'): 4869,\n",
       " PosixPath('/data/text/sd_test/test.txt'): 2399}"
      ]
     },
     "execution_count": 26,
     "metadata": {},
     "output_type": "execute_result"
    }
   ],
   "source": [
    "extractor_tokcl.extract_from_corpus()"
   ]
  },
  {
   "cell_type": "markdown",
   "metadata": {},
   "source": [
    "same via CLI:\n",
    "\n",
    "```bash\n",
    "python -m smtag.cli.prepro.extract /data/xml/191012/ /data/text/sd_test --xpath \".//sd-panel\" --sentence_level --keep_xml --inclusion_probability 1.0\n",
    "```"
   ]
  },
  {
   "cell_type": "markdown",
   "metadata": {},
   "source": [
    "## Preparing tokenized dataset for TOKCL"
   ]
  },
  {
   "cell_type": "code",
   "execution_count": 27,
   "metadata": {},
   "outputs": [],
   "source": [
    "from smtag.dataprep import PreparatorTOKCL"
   ]
  },
  {
   "cell_type": "code",
   "execution_count": 28,
   "metadata": {},
   "outputs": [],
   "source": [
    "from smtag.xml2labels import SourceDataCodes as sd"
   ]
  },
  {
   "cell_type": "code",
   "execution_count": 30,
   "metadata": {},
   "outputs": [],
   "source": [
    "# !rm -fr /data/json/sd_test"
   ]
  },
  {
   "cell_type": "code",
   "execution_count": 31,
   "metadata": {},
   "outputs": [],
   "source": [
    "tokenized_examples = \"/data/json/sd_test\"\n",
    "code_maps: code_maps = [\n",
    "    sd.ENTITY_TYPES,\n",
    "    sd.GENEPROD_ROLES,\n",
    "    sd.BORING,\n",
    "    sd.PANELIZATION\n",
    "]\n",
    "max_length = config.max_length"
   ]
  },
  {
   "cell_type": "code",
   "execution_count": 32,
   "metadata": {},
   "outputs": [
    {
     "name": "stdout",
     "output_type": "stream",
     "text": [
      "/data/json/sd_test created\n"
     ]
    }
   ],
   "source": [
    "prep_tokcl = PreparatorTOKCL(\n",
    "    xml_examples,\n",
    "    tokenized_examples,\n",
    "    code_maps,\n",
    "    max_length=max_length\n",
    ")"
   ]
  },
  {
   "cell_type": "code",
   "execution_count": 33,
   "metadata": {
    "scrolled": true
   },
   "outputs": [
    {
     "name": "stdout",
     "output_type": "stream",
     "text": [
      "Preparing: train\n"
     ]
    },
    {
     "name": "stderr",
     "output_type": "stream",
     "text": [
      "  8%|▊         | 1279/15859 [00:02<00:29, 487.27it/s]"
     ]
    },
    {
     "name": "stdout",
     "output_type": "stream",
     "text": [
      "WARNING: token overlaps element boundary sd-tag at position 274 in 'lation of >>>mitochondria^l...<<<ow cells. '\n",
      "WARNING: token overlaps element boundary sd-tag at position 310 in 'entage of >>>mitochondria^l...<<<ow cells/S'\n"
     ]
    },
    {
     "name": "stderr",
     "output_type": "stream",
     "text": [
      "  9%|▉         | 1446/15859 [00:02<00:27, 517.73it/s]"
     ]
    },
    {
     "name": "stdout",
     "output_type": "stream",
     "text": [
      "WARNING: token overlaps element boundary sd-tag at position 12 in 'hanges in >>>H^D...<<<X behavior'\n",
      "WARNING: token overlaps element boundary sd-tag at position 358 in 'tion. All >>>H^D...<<<X MS data '\n",
      "WARNING: token overlaps element boundary sd-tag at position 457 in 'f GMPPCP. >>>H^D...<<<X data are'\n",
      "WARNING: token overlaps element boundary sd-tag at position 179 in 'crease in >>>H^D...<<<X. Quantit'\n"
     ]
    },
    {
     "name": "stderr",
     "output_type": "stream",
     "text": [
      " 13%|█▎        | 2045/15859 [00:03<00:24, 554.82it/s]"
     ]
    },
    {
     "name": "stdout",
     "output_type": "stream",
     "text": [
      "WARNING: token overlaps element boundary sd-tag at position 48 in 'alysis of >>>EC^B...<<<rdU incorp'\n"
     ]
    },
    {
     "name": "stderr",
     "output_type": "stream",
     "text": [
      " 15%|█▍        | 2329/15859 [00:04<00:27, 490.56it/s]"
     ]
    },
    {
     "name": "stdout",
     "output_type": "stream",
     "text": [
      "WARNING: token overlaps element boundary sd-tag at position 109 in '−folate + >>>A^G...<<<CT (n = 75'\n",
      "WARNING: token overlaps element boundary sd-tag at position 111 in 'olate + AG>>>C^T...<<< (n = 75).'\n"
     ]
    },
    {
     "name": "stderr",
     "output_type": "stream",
     "text": [
      " 36%|███▌      | 5650/15859 [00:11<00:20, 498.65it/s]"
     ]
    },
    {
     "name": "stdout",
     "output_type": "stream",
     "text": [
      "WARNING: token overlaps element boundary sd-tag at position 19 in ': Braf-/-;>>>ER^T...<<<mHRasG12V '\n",
      "WARNING: token overlaps element boundary sd-tag at position 19 in ': Braf-/-;>>>ER^T...<<<mHRasG12V '\n",
      "WARNING: token overlaps element boundary sd-tag at position 14 in ') Braf-/-;>>>ER^T...<<<mHRasG12V '\n",
      "WARNING: token overlaps element boundary sd-tag at position 14 in ') Braf-/-;>>>ER^T...<<<mHRasG12V '\n"
     ]
    },
    {
     "name": "stderr",
     "output_type": "stream",
     "text": [
      " 39%|███▊      | 6144/15859 [00:12<00:20, 479.15it/s]"
     ]
    },
    {
     "name": "stdout",
     "output_type": "stream",
     "text": [
      "WARNING: token overlaps element boundary sd-tag at position 257 in ' (E), the >>>neuron^s...<<< were anal'\n",
      "WARNING: token overlaps element boundary sd-tag at position 257 in ' (E), the >>>neuron^s...<<< were anal'\n"
     ]
    },
    {
     "name": "stderr",
     "output_type": "stream",
     "text": [
      " 49%|████▉     | 7785/15859 [00:15<00:14, 566.53it/s]"
     ]
    },
    {
     "name": "stdout",
     "output_type": "stream",
     "text": [
      "WARNING: token overlaps element boundary sd-tag at position 74 in 'red in S(->>>N^C...<<<) for 4 h '\n",
      "WARNING: token overlaps element boundary sd-tag at position 74 in 'red in S(->>>N^C...<<<) for 4 h '\n",
      "WARNING: token overlaps element boundary sd-tag at position 37 in 'red in S(->>>N^C...<<<) for 4 h.'\n",
      "WARNING: token overlaps element boundary sd-tag at position 37 in 'red in S(->>>N^C...<<<) for 4 h.'\n",
      "WARNING: token overlaps element boundary sd-tag at position 284 in 'e mutated >>>T^Y...<<<88A allele'\n",
      "WARNING: token overlaps element boundary sd-tag at position 284 in 'e mutated >>>T^Y...<<<88A allele'\n",
      "WARNING: token overlaps element boundary sd-tag at position 22 in 'alysis of >>>T^Y...<<<88A mutant'\n",
      "WARNING: token overlaps element boundary sd-tag at position 315 in 'enance in >>>T^Y...<<<88A mutant'\n",
      "WARNING: token overlaps element boundary sd-tag at position 341 in 'mpared to >>>T^W...<<<T controls'\n",
      "WARNING: token overlaps element boundary sd-tag at position 22 in 'alysis of >>>T^Y...<<<88A mutant'\n",
      "WARNING: token overlaps element boundary sd-tag at position 315 in 'enance in >>>T^Y...<<<88A mutant'\n",
      "WARNING: token overlaps element boundary sd-tag at position 341 in 'mpared to >>>T^W...<<<T controls'\n",
      "WARNING: token overlaps element boundary sd-tag at position 5 in '>>>T^Y...<<<88A mutant'\n",
      "WARNING: token overlaps element boundary sd-tag at position 5 in '>>>T^Y...<<<88A mutant'\n",
      "WARNING: token overlaps element boundary sd-tag at position 128 in 'nt in the >>>T^Y...<<<88A mutant'\n",
      "WARNING: token overlaps element boundary sd-tag at position 128 in 'nt in the >>>T^Y...<<<88A mutant'\n",
      "WARNING: token overlaps element boundary sd-tag at position 75 in 'm control >>>T^W...<<<T and TY88'\n",
      "WARNING: token overlaps element boundary sd-tag at position 83 in 'l TWT and >>>T^Y...<<<88A during'\n",
      "WARNING: token overlaps element boundary sd-tag at position 75 in 'm control >>>T^W...<<<T and TY88'\n",
      "WARNING: token overlaps element boundary sd-tag at position 83 in 'l TWT and >>>T^Y...<<<88A during'\n",
      "WARNING: token overlaps element boundary sd-tag at position 33 in 'ession in >>>T^W...<<<T- and TY8'\n",
      "WARNING: token overlaps element boundary sd-tag at position 42 in ' TWT- and >>>T^Y...<<<88A-Tg(TmC'\n",
      "WARNING: token overlaps element boundary sd-tag at position 33 in 'ession in >>>T^W...<<<T- and TY8'\n",
      "WARNING: token overlaps element boundary sd-tag at position 42 in ' TWT- and >>>T^Y...<<<88A-Tg(TmC'\n",
      "WARNING: token overlaps element boundary sd-tag at position 46 in 'alysis of >>>T^W...<<<T- and TY8'\n",
      "WARNING: token overlaps element boundary sd-tag at position 55 in ' TWT- and >>>T^Y...<<<88A-Tg(TmC'\n",
      "WARNING: token overlaps element boundary sd-tag at position 46 in 'alysis of >>>T^W...<<<T- and TY8'\n",
      "WARNING: token overlaps element boundary sd-tag at position 55 in ' TWT- and >>>T^Y...<<<88A-Tg(TmC'\n",
      "WARNING: token overlaps element boundary sd-tag at position 122 in 'opment in >>>T^Y...<<<88A mutant'\n",
      "WARNING: token overlaps element boundary sd-tag at position 122 in 'opment in >>>T^Y...<<<88A mutant'\n",
      "WARNING: token overlaps element boundary sd-tag at position 95 in 'mpared to >>>T^W...<<<T) in TY88'\n",
      "WARNING: token overlaps element boundary sd-tag at position 103 in 'o TWT) in >>>T^Y...<<<88A mutant'\n",
      "WARNING: token overlaps element boundary sd-tag at position 95 in 'mpared to >>>T^W...<<<T) in TY88'\n",
      "WARNING: token overlaps element boundary sd-tag at position 103 in 'o TWT) in >>>T^Y...<<<88A mutant'\n",
      "WARNING: token overlaps element boundary sd-tag at position 120 in ' FACS, in >>>T^W...<<<T-, TY88A-'\n",
      "WARNING: token overlaps element boundary sd-tag at position 126 in ' in TWT-, >>>T^Y...<<<88A-, and '\n",
      "WARNING: token overlaps element boundary sd-tag at position 120 in ' FACS, in >>>T^W...<<<T-, TY88A-'\n",
      "WARNING: token overlaps element boundary sd-tag at position 126 in ' in TWT-, >>>T^Y...<<<88A-, and '\n",
      "WARNING: token overlaps element boundary sd-tag at position 81 in ' of E8.25 >>>T^Y...<<<88A mutant'\n",
      "WARNING: token overlaps element boundary sd-tag at position 107 in 'mpared to >>>T^W...<<<T control.'\n",
      "WARNING: token overlaps element boundary sd-tag at position 81 in ' of E8.25 >>>T^Y...<<<88A mutant'\n",
      "WARNING: token overlaps element boundary sd-tag at position 107 in 'mpared to >>>T^W...<<<T control.'\n",
      "WARNING: token overlaps element boundary sd-tag at position 41 in 'ession in >>>T^Y...<<<88A compar'\n",
      "WARNING: token overlaps element boundary sd-tag at position 59 in 'mpared to >>>T^W...<<<T control '\n",
      "WARNING: token overlaps element boundary sd-tag at position 203 in 'ession in >>>T^Y...<<<88A compar'\n",
      "WARNING: token overlaps element boundary sd-tag at position 221 in 'mpared to >>>T^W...<<<T control '\n",
      "WARNING: token overlaps element boundary sd-tag at position 41 in 'ession in >>>T^Y...<<<88A compar'\n",
      "WARNING: token overlaps element boundary sd-tag at position 59 in 'mpared to >>>T^W...<<<T control '\n",
      "WARNING: token overlaps element boundary sd-tag at position 203 in 'ession in >>>T^Y...<<<88A compar'\n",
      "WARNING: token overlaps element boundary sd-tag at position 221 in 'mpared to >>>T^W...<<<T control '\n",
      "WARNING: token overlaps element boundary sd-tag at position 59 in 'bodies of >>>T^W...<<<T and TY88'\n",
      "WARNING: token overlaps element boundary sd-tag at position 67 in 'f TWT and >>>T^Y...<<<88A mESCs.'\n",
      "WARNING: token overlaps element boundary sd-tag at position 59 in 'bodies of >>>T^W...<<<T and TY88'\n",
      "WARNING: token overlaps element boundary sd-tag at position 67 in 'f TWT and >>>T^Y...<<<88A mESCs.'\n",
      "WARNING: token overlaps element boundary sd-tag at position 101 in 'e box, in >>>T^W...<<<T and TY88'\n",
      "WARNING: token overlaps element boundary sd-tag at position 109 in 'n TWT and >>>T^Y...<<<88A in vit'\n",
      "WARNING: token overlaps element boundary sd-tag at position 101 in 'e box, in >>>T^W...<<<T and TY88'\n",
      "WARNING: token overlaps element boundary sd-tag at position 109 in 'n TWT and >>>T^Y...<<<88A in vit'\n",
      "WARNING: token overlaps element boundary sd-tag at position 65 in 'mpared to >>>T^W...<<<T at day 4'\n",
      "WARNING: token overlaps element boundary sd-tag at position 65 in 'mpared to >>>T^W...<<<T at day 4'\n",
      "WARNING: token overlaps element boundary sd-tag at position 62 in 'n control >>>T^W...<<<T compared'\n",
      "WARNING: token overlaps element boundary sd-tag at position 62 in 'n control >>>T^W...<<<T compared'\n"
     ]
    },
    {
     "name": "stderr",
     "output_type": "stream",
     "text": [
      " 59%|█████▉    | 9326/15859 [00:18<00:13, 493.17it/s]"
     ]
    },
    {
     "name": "stdout",
     "output_type": "stream",
     "text": [
      "WARNING: token overlaps element boundary sd-tag at position 176 in 'bivalent (>>>X^Y...<<<) and thei'\n",
      "WARNING: token overlaps element boundary sd-tag at position 272 in 'bivalent (>>>X^Y...<<<) is indic'\n",
      "WARNING: token overlaps element boundary sd-tag at position 32 in 'cation of >>>mitochondria^l...<<< numbers f'\n",
      "WARNING: token overlaps element boundary sd-tag at position 32 in 'cation of >>>mitochondria^l...<<< numbers f'\n"
     ]
    },
    {
     "name": "stderr",
     "output_type": "stream",
     "text": [
      " 95%|█████████▌| 15118/15859 [00:30<00:01, 387.40it/s]"
     ]
    },
    {
     "name": "stdout",
     "output_type": "stream",
     "text": [
      "WARNING: token overlaps element boundary sd-tag at position 49 in '1-Lmo2+nu/>>>nu^m...<<<ice (green'\n",
      "WARNING: token overlaps element boundary sd-tag at position 49 in '1-Lmo2+nu/>>>nu^m...<<<ice (green'\n",
      "WARNING: token overlaps element boundary sd-tag at position 66 in '1-Lmo2+nu/>>>nu^m...<<<ouse. A co'\n",
      "WARNING: token overlaps element boundary sd-tag at position 99 in 'ermate nu/>>>nu^m...<<<ouse is sh'\n",
      "WARNING: token overlaps element boundary sd-tag at position 66 in '1-Lmo2+nu/>>>nu^m...<<<ouse. A co'\n",
      "WARNING: token overlaps element boundary sd-tag at position 99 in 'ermate nu/>>>nu^m...<<<ouse is sh'\n",
      "WARNING: token overlaps element boundary sd-tag at position 58 in '1-Lmo2+nu/>>>nu^m...<<<ice studie'\n",
      "WARNING: token overlaps element boundary sd-tag at position 237 in 'ermate nu/>>>nu^m...<<<ouse is sh'\n",
      "WARNING: token overlaps element boundary sd-tag at position 58 in '1-Lmo2+nu/>>>nu^m...<<<ice studie'\n",
      "WARNING: token overlaps element boundary sd-tag at position 237 in 'ermate nu/>>>nu^m...<<<ouse is sh'\n",
      "WARNING: token overlaps element boundary sd-tag at position 53 in ' Prox1-Cre>>>ER^T...<<<2;Ilk+/+ m'\n",
      "WARNING: token overlaps element boundary sd-tag at position 121 in ' Prox1-Cre>>>ER^T...<<<2;Ilk∆/∆ m'\n",
      "WARNING: token overlaps element boundary sd-tag at position 53 in ' Prox1-Cre>>>ER^T...<<<2;Ilk+/+ m'\n",
      "WARNING: token overlaps element boundary sd-tag at position 121 in ' Prox1-Cre>>>ER^T...<<<2;Ilk∆/∆ m'\n",
      "WARNING: token overlaps element boundary sd-tag at position 70 in ' Prox1-Cre>>>ER^T...<<<2;Ilk+/+ m'\n",
      "WARNING: token overlaps element boundary sd-tag at position 134 in ' Prox1-Cre>>>ER^T...<<<2;Ilk∆/∆ m'\n",
      "WARNING: token overlaps element boundary sd-tag at position 70 in ' Prox1-Cre>>>ER^T...<<<2;Ilk+/+ m'\n",
      "WARNING: token overlaps element boundary sd-tag at position 134 in ' Prox1-Cre>>>ER^T...<<<2;Ilk∆/∆ m'\n"
     ]
    },
    {
     "name": "stderr",
     "output_type": "stream",
     "text": [
      "100%|██████████| 15859/15859 [00:32<00:00, 493.44it/s]\n"
     ]
    },
    {
     "name": "stdout",
     "output_type": "stream",
     "text": [
      "\n",
      "Length verification: OK!\n",
      "\n",
      "average input_ids length = 104 (min=24, max=512) tokens\n",
      "longest example: <s>The timeline of GFP-lentivirus and CSP or CSP-TTK21 (one injection, 500 μg/mouse) injection is shown. (Left) The total number of spines was significantly decreased in TAU VEH compared to WT VEH mice. TAU MOL hippocampi showed a significant increase in the total number of spines compared to TAU VEH (One-way ANOVA p=0.0011, post hoc Holm Sidak's multiple comparisons test F(2,243) = 7.03; WT VEH vs. TAU VEH, p < 0.0009; TAU MOL vs. TAU VEH, p=0.0455). (Middle) Based on spine type, the number of head spines (Mushrooms, thins) was significantly lower in both TAU VEH and TAU MOL than in WT VEH controls (One-way ANOVA p=0.0018, post hoc Holm Sidak's multiple comparisons test F(2,243) = 6.467; WT VEH vs. TAU VEH, p=0.0013; WT VEH vs. TAU MOL, p=0.0272. Stubby spine density was significantly increased in TAU MOL compared to TAU VEH mice (One-way ANOVA F(2,243) = 4.311, p = 0.0145, post hoc Holm Sidak's multiple comparisons test: TAU MOL vs. TAU VEH, p=0.0109), as the number of filopodia (One-way ANOVA F(2,243) = 3.845, p = 0.0227, post hoc Holm Sidak's multiple comparisons test TAU MOL vs. TAU VEH, p=0.0179). (Right) Typical images are presented showing a dendrite fragment for each condition. White arrowhead depicts stubby spines. Scale bar, 2 μm. Number of dendritc segments: WT VEH, n=67; TAU VEH, n=93, TAU MOL, n=87; Number of neurons: WT VEH, n=20; TAU VEH, n=28, TAU MOL, n=16; Number of mice: WT VEH, n=2; TAU VEH, n=3,</s>\n",
      "shortest example: <s>E Ten-fold serial dilutions and subsequent colony formation of the indicated mutant cells at the indicated temperatures. </s>\n",
      "Preparing: eval\n"
     ]
    },
    {
     "name": "stderr",
     "output_type": "stream",
     "text": [
      " 10%|▉         | 475/4869 [00:00<00:08, 506.97it/s]"
     ]
    },
    {
     "name": "stdout",
     "output_type": "stream",
     "text": [
      "WARNING: token overlaps element boundary sd-tag at position 338 in ' (green). >>>Cre^st...<<<aining (re'\n",
      "WARNING: token overlaps element boundary sd-tag at position 391 in 'β-gal and >>>Cre^st...<<<aining in '\n",
      "WARNING: token overlaps element boundary sd-tag at position 338 in ' (green). >>>Cre^st...<<<aining (re'\n",
      "WARNING: token overlaps element boundary sd-tag at position 391 in 'β-gal and >>>Cre^st...<<<aining in '\n"
     ]
    },
    {
     "name": "stderr",
     "output_type": "stream",
     "text": [
      " 13%|█▎        | 618/4869 [00:01<00:10, 415.14it/s]"
     ]
    },
    {
     "name": "stdout",
     "output_type": "stream",
     "text": [
      "WARNING: token overlaps element boundary sd-tag at position 650 in ' multiple >>>rod^s...<<<omata). (J'\n"
     ]
    },
    {
     "name": "stderr",
     "output_type": "stream",
     "text": [
      " 55%|█████▍    | 2674/4869 [00:05<00:03, 566.74it/s]"
     ]
    },
    {
     "name": "stdout",
     "output_type": "stream",
     "text": [
      "WARNING: token overlaps element boundary sd-tag at position 110 in 'in VM and >>>AM^C...<<<Ms.Data in'\n"
     ]
    },
    {
     "name": "stderr",
     "output_type": "stream",
     "text": [
      "100%|██████████| 4869/4869 [00:09<00:00, 519.03it/s]\n"
     ]
    },
    {
     "name": "stdout",
     "output_type": "stream",
     "text": [
      "\n",
      "Length verification: OK!\n",
      "\n",
      "average input_ids length = 100 (min=26, max=512) tokens\n",
      "longest example: <s>C Glucose tolerance test (GTT) was performed on 6-h-fasted mice during 120 min after injection of 1 g glucose/kg of body weight. Curves on the left show blood glucose level monitored after injection of glucose. Histograms on the right show area under curve (AUC). Fasting blood glucose: P (−/− versus +/+; CTRL; t = 0 min) = 0.045; P (−/− versus +/+; CTRL; t = 15 min) = 0.013; P (−/− versus +/+; CTRL; t = 30 min) = 0.016; P (−/− versus +/+; CTRL; t = 60 min) = 0.030; P (−/− versus +/+; CTRL; t = 90 min) = 0.017; P (−/− versus +/+; HFD; t = 60 min) = 0.041; P (−/− versus +/+; HFD; t = 90 min) = 0.043; P (−/− versus +/+; HFD; t = 120 min) = 0.034; P (HFD versus CTRL; +/+; t = 15 min) = 0.0076; P (HFD versus CTRL; +/+; t = 30 min) = 0.0067; P (HFD versus CTRL; +/+; t = 60 min) = 0.00058; P (HFD versus CTRL; +/+; t = 90 min) = 0.0010; P (HFD versus CTRL; +/+; t = 120 min) = 0.023; P (HFD versus CTRL; −/−; t = 60 min) = 0.032. AUC: P (−/− versus +/+; CTRL) = 0.023; P (−/− versus +/+; HFD) = 0.035; P (HFD versus CTRL; +/+) = 0.042.D Insulin tolerance test (ITT) was performed on 6-h-fasted mice during 150 min after injection of 0.70 U insulin/kg of body weight. Curves on the left show blood glucose level monitored after injection of insulin. Histograms on the right show area above curve (AAC). Fasting blood glucose: P (−/− versus +/+; CTRL; t = 15 min = 0.012; P (−/− versus +/+; CTRL; t = 30 min) = 0.</s>\n",
      "shortest example: <s>Number of soft agar colonies (n=3 independent experiments formed by Rat2 cells stably expressing the indicated constructs </s>\n",
      "Preparing: test\n"
     ]
    },
    {
     "name": "stderr",
     "output_type": "stream",
     "text": [
      "100%|██████████| 2399/2399 [00:04<00:00, 487.08it/s]\n"
     ]
    },
    {
     "name": "stdout",
     "output_type": "stream",
     "text": [
      "\n",
      "Length verification: OK!\n",
      "\n",
      "average input_ids length = 103 (min=26, max=512) tokens\n",
      "longest example: <s>Heat-map representing the correlations (expressed as the R2) between the abundances of 73 known proteasome-interacting proteins (PIPs) and the abundances of 8 reference proteins or protein complexes, PA28γ, β2i (representing the iP20S), PA28αβ, ncP20S (median of α1-α7, β3, β4, β6, and β7 profiles), 19S (median of Rpt1-6, Rpn1-3, 5-14 profiles), PI31, β5 (representing the sP20S), and PA200. For protein complexes, the median PAI of their subunits in each of the 24 AP-MS experiments was used: α1-α7, β3, β4, β6, and β7 subunits for the ncP20S, Rpt1-6, Rpn1-3, 5-14 for the 19S RP, and PA28α and PA28β subunits for the PA28αβ RP. The R2 values were hierarchically clustered. Three distinct clusters of composition detailed hereafter could be obtained. Cluster 1 (from top to bottom): Rpt3, Rpn13, α2, Rpn7, USP14, hHR23B, α1, β6, β3, α4, α7, Rpn6, Rpn3, Rpt4, Rpn10, Rpn5, Rpt5, Rpn1, Rpn11, Rpt1, Rpn9, Rpn2, Rpn8, α3, α6, β4, Rpt6, PDC6, Rpn12, APEH, Ubiquilin-1, α5, β7, CCT7, CCT4, CCT2, CCT3, CCT5, CCT6A, DNAJA1, HSP90AB1, HSP90AA1, PNP, Rpt2. Cluster 2 (from top to bottom): 14-3-3ζ/δ, CAND1, GSR, UBE3C, β2, ATP5A1, ATP5B, β1, PA200, β5, FBXO7, UCHL5, TXNL1, ECM29, PI31. Cluster 3 (from top to bottom): PA28β,</s>\n",
      "shortest example: <s>B. Indicated stable RPE clones in densely cultured conditions were analyzed by Western blotting for the indicated proteins. </s>\n"
     ]
    }
   ],
   "source": [
    "prep_tokcl.run()"
   ]
  },
  {
   "cell_type": "markdown",
   "metadata": {},
   "source": [
    "same vie CLI:\n",
    "    \n",
    "```bash\n",
    "python -m smtag.cli.tokcl.dataprep /data/text/sd_test /data/json/sd_test\n",
    "```"
   ]
  },
  {
   "cell_type": "markdown",
   "metadata": {},
   "source": [
    "## Train model for TOKCL"
   ]
  },
  {
   "cell_type": "code",
   "execution_count": 34,
   "metadata": {},
   "outputs": [],
   "source": [
    "from smtag.train.train_tokcl import (\n",
    "    train as train_tokcl,\n",
    "    TrainingArgumentsTOKCL\n",
    ")"
   ]
  },
  {
   "cell_type": "code",
   "execution_count": 35,
   "metadata": {
    "scrolled": true
   },
   "outputs": [
    {
     "name": "stderr",
     "output_type": "stream",
     "text": [
      "using `logging_steps` to initialize `eval_steps` to 100\n",
      "PyTorch: setting up devices\n",
      "The default value for the training argument `--report_to` will change in v5 (from all installed integrations to none). In v5, you will need to use `--report_to all` to get the same behavior as now. You should start updating your code and make this info disappear :-).\n"
     ]
    },
    {
     "data": {
      "text/plain": [
       "TrainingArgumentsTOKCL(output_dir='/tokcl_models', overwrite_output_dir=True, do_train=False, do_eval=True, do_predict=False, evaluation_strategy=<IntervalStrategy.STEPS: 'steps'>, prediction_loss_only=True, per_device_train_batch_size=16, per_device_eval_batch_size=16, per_gpu_train_batch_size=None, per_gpu_eval_batch_size=None, gradient_accumulation_steps=1, eval_accumulation_steps=None, learning_rate=0.0001, weight_decay=0.0, adam_beta1=0.9, adam_beta2=0.999, adam_epsilon=1e-08, max_grad_norm=1.0, num_train_epochs=5, max_steps=-1, lr_scheduler_type=<SchedulerType.LINEAR: 'linear'>, warmup_ratio=0.0, warmup_steps=0, log_level=-1, log_level_replica=-1, log_on_each_node=True, logging_dir='/tokcl_models/runs/Feb10_09-23-26_b8af305fb798', logging_strategy=<IntervalStrategy.STEPS: 'steps'>, logging_first_step=False, logging_steps=100, logging_nan_inf_filter=True, save_strategy=<IntervalStrategy.STEPS: 'steps'>, save_steps=500, save_total_limit=5, save_on_each_node=False, no_cuda=False, seed=42, bf16=False, fp16=False, fp16_opt_level='O1', half_precision_backend='auto', bf16_full_eval=False, fp16_full_eval=False, tf32=None, local_rank=-1, xpu_backend=None, tpu_num_cores=None, tpu_metrics_debug=False, debug=[], dataloader_drop_last=False, eval_steps=100, dataloader_num_workers=0, past_index=-1, run_name='/tokcl_models', disable_tqdm=False, remove_unused_columns=True, label_names=None, load_best_model_at_end=False, metric_for_best_model=None, greater_is_better=None, ignore_data_skip=False, sharded_ddp=[], deepspeed=None, label_smoothing_factor=0.0, adafactor=False, group_by_length=False, length_column_name='length', report_to=['tensorboard'], ddp_find_unused_parameters=None, ddp_bucket_cap_mb=None, dataloader_pin_memory=True, skip_memory_metrics=True, use_legacy_prediction_loop=False, push_to_hub=False, resume_from_checkpoint=None, hub_model_id=None, hub_strategy=<HubStrategy.EVERY_SAVE: 'every_save'>, hub_token=None, gradient_checkpointing=False, fp16_backend='auto', push_to_hub_model_id=None, push_to_hub_organization=None, push_to_hub_token=None, mp_parameters='', masking_probability=0.0, replacement_probability=0.0, select_labels=False)"
      ]
     },
     "execution_count": 35,
     "metadata": {},
     "output_type": "execute_result"
    }
   ],
   "source": [
    "training_args_tokcl = TrainingArgumentsTOKCL(\n",
    "    num_train_epochs=5,\n",
    "    logging_steps=100,\n",
    "    per_device_train_batch_size=16,\n",
    "    per_device_eval_batch_size=16,\n",
    "    replacement_probability=.0,\n",
    "    masking_probability=.0\n",
    ")\n",
    "training_args_tokcl"
   ]
  },
  {
   "cell_type": "code",
   "execution_count": 37,
   "metadata": {},
   "outputs": [],
   "source": [
    "no_cache = False\n",
    "loader_path = \"./smtag/loader/loader_tokcl.py\"\n",
    "data_config_name =  \"NER\"\n",
    "tokenizer = config.tokenizer\n",
    "from_pretrained = \"EMBO/bio-lm\"  # specialized model from huggingface.co/embo #  \"roberta-base\" # general lm model"
   ]
  },
  {
   "cell_type": "code",
   "execution_count": 38,
   "metadata": {
    "scrolled": true
   },
   "outputs": [
    {
     "name": "stderr",
     "output_type": "stream",
     "text": [
      "Using custom data configuration NER-e90bf469e54b0531\n",
      "Reusing dataset source_data_nlp (/cache/source_data_nlp/NER-e90bf469e54b0531/0.0.1/e65d5b9e503369f63bb0dc6ae8e7b78be209fbfa242d23c1ac7ac97b09bef36a)\n"
     ]
    },
    {
     "name": "stdout",
     "output_type": "stream",
     "text": [
      "tokenizer vocab size: 50265\n",
      "\n",
      "Loading and tokenizing datasets found in /data/json/sd_test.\n",
      "using ./smtag/loader/loader_tokcl.py as dataset loader.\n"
     ]
    },
    {
     "data": {
      "application/vnd.jupyter.widget-view+json": {
       "model_id": "43debaf1e79a46aeae44fee9a605a325",
       "version_major": 2,
       "version_minor": 0
      },
      "text/plain": [
       "  0%|          | 0/3 [00:00<?, ?it/s]"
      ]
     },
     "metadata": {},
     "output_type": "display_data"
    },
    {
     "name": "stdout",
     "output_type": "stream",
     "text": [
      "\n",
      "Training with 15859 examples.\n",
      "Evaluating on 4869 examples.\n",
      "\n",
      "Training on 15 features:\n",
      "O, I-SMALL_MOLECULE, B-SMALL_MOLECULE, I-GENEPROD, B-GENEPROD, I-SUBCELLULAR, B-SUBCELLULAR, I-CELL, B-CELL, I-TISSUE, B-TISSUE, I-ORGANISM, B-ORGANISM, I-EXP_ASSAY, B-EXP_ASSAY\n"
     ]
    },
    {
     "name": "stderr",
     "output_type": "stream",
     "text": [
      "loading configuration file https://huggingface.co/EMBO/bio-lm/resolve/main/config.json from cache at /root/.cache/huggingface/transformers/09fed88b4a07fe6baced126e3cdb14f2764c1bc57f62d1026a75b3ffdb3ec5f8.c781727f43e25ac5b298f775b2dd4f32f53c9890a2367bbd99ffdbd856251b85\n",
      "Model config RobertaConfig {\n",
      "  \"_name_or_path\": \"EMBO/bio-lm\",\n",
      "  \"architectures\": [\n",
      "    \"RobertaForMaskedLM\"\n",
      "  ],\n",
      "  \"attention_probs_dropout_prob\": 0.1,\n",
      "  \"bos_token_id\": 0,\n",
      "  \"classifier_dropout\": null,\n",
      "  \"eos_token_id\": 2,\n",
      "  \"gradient_checkpointing\": false,\n",
      "  \"hidden_act\": \"gelu\",\n",
      "  \"hidden_dropout_prob\": 0.1,\n",
      "  \"hidden_size\": 768,\n",
      "  \"id2label\": {\n",
      "    \"0\": \"LABEL_0\",\n",
      "    \"1\": \"LABEL_1\",\n",
      "    \"2\": \"LABEL_2\",\n",
      "    \"3\": \"LABEL_3\",\n",
      "    \"4\": \"LABEL_4\",\n",
      "    \"5\": \"LABEL_5\",\n",
      "    \"6\": \"LABEL_6\",\n",
      "    \"7\": \"LABEL_7\",\n",
      "    \"8\": \"LABEL_8\",\n",
      "    \"9\": \"LABEL_9\",\n",
      "    \"10\": \"LABEL_10\",\n",
      "    \"11\": \"LABEL_11\",\n",
      "    \"12\": \"LABEL_12\",\n",
      "    \"13\": \"LABEL_13\",\n",
      "    \"14\": \"LABEL_14\"\n",
      "  },\n",
      "  \"initializer_range\": 0.02,\n",
      "  \"intermediate_size\": 3072,\n",
      "  \"label2id\": {\n",
      "    \"LABEL_0\": 0,\n",
      "    \"LABEL_1\": 1,\n",
      "    \"LABEL_10\": 10,\n",
      "    \"LABEL_11\": 11,\n",
      "    \"LABEL_12\": 12,\n",
      "    \"LABEL_13\": 13,\n",
      "    \"LABEL_14\": 14,\n",
      "    \"LABEL_2\": 2,\n",
      "    \"LABEL_3\": 3,\n",
      "    \"LABEL_4\": 4,\n",
      "    \"LABEL_5\": 5,\n",
      "    \"LABEL_6\": 6,\n",
      "    \"LABEL_7\": 7,\n",
      "    \"LABEL_8\": 8,\n",
      "    \"LABEL_9\": 9\n",
      "  },\n",
      "  \"layer_norm_eps\": 1e-05,\n",
      "  \"max_position_embeddings\": 514,\n",
      "  \"model_type\": \"roberta\",\n",
      "  \"num_attention_heads\": 12,\n",
      "  \"num_hidden_layers\": 12,\n",
      "  \"pad_token_id\": 1,\n",
      "  \"position_embedding_type\": \"absolute\",\n",
      "  \"transformers_version\": \"4.15.0\",\n",
      "  \"type_vocab_size\": 1,\n",
      "  \"use_cache\": true,\n",
      "  \"vocab_size\": 50265\n",
      "}\n",
      "\n",
      "loading weights file https://huggingface.co/EMBO/bio-lm/resolve/main/pytorch_model.bin from cache at /root/.cache/huggingface/transformers/f61ee36e7d211df88e7eb67c937348fbd256ab3a970d6b3c9848181ed0330c27.12bb7cf77356bf912ed8598fb9a17becaa7e7c5406692af7264c45956cde2cf3\n",
      "Some weights of the model checkpoint at EMBO/bio-lm were not used when initializing RobertaForTokenClassification: ['lm_head.decoder.weight', 'lm_head.bias', 'lm_head.dense.bias', 'lm_head.layer_norm.bias', 'lm_head.layer_norm.weight', 'lm_head.dense.weight', 'lm_head.decoder.bias']\n",
      "- This IS expected if you are initializing RobertaForTokenClassification from the checkpoint of a model trained on another task or with another architecture (e.g. initializing a BertForSequenceClassification model from a BertForPreTraining model).\n",
      "- This IS NOT expected if you are initializing RobertaForTokenClassification from the checkpoint of a model that you expect to be exactly identical (initializing a BertForSequenceClassification model from a BertForSequenceClassification model).\n",
      "Some weights of RobertaForTokenClassification were not initialized from the model checkpoint at EMBO/bio-lm and are newly initialized: ['classifier.weight', 'classifier.bias']\n",
      "You should probably TRAIN this model on a down-stream task to be able to use it for predictions and inference.\n",
      "***** Running training *****\n",
      "  Num examples = 15859\n",
      "  Num Epochs = 5\n",
      "  Instantaneous batch size per device = 16\n",
      "  Total train batch size (w. parallel, distributed & accumulation) = 64\n",
      "  Gradient Accumulation steps = 1\n",
      "  Total optimization steps = 1240\n"
     ]
    },
    {
     "name": "stdout",
     "output_type": "stream",
     "text": [
      "\n",
      "Training arguments:\n",
      "TrainingArgumentsTOKCL(\n",
      "_n_gpu=4,\n",
      "adafactor=False,\n",
      "adam_beta1=0.9,\n",
      "adam_beta2=0.999,\n",
      "adam_epsilon=1e-08,\n",
      "bf16=False,\n",
      "bf16_full_eval=False,\n",
      "dataloader_drop_last=False,\n",
      "dataloader_num_workers=0,\n",
      "dataloader_pin_memory=True,\n",
      "ddp_bucket_cap_mb=None,\n",
      "ddp_find_unused_parameters=None,\n",
      "debug=[],\n",
      "deepspeed=None,\n",
      "disable_tqdm=False,\n",
      "do_eval=True,\n",
      "do_predict=False,\n",
      "do_train=False,\n",
      "eval_accumulation_steps=None,\n",
      "eval_steps=100,\n",
      "evaluation_strategy=IntervalStrategy.STEPS,\n",
      "fp16=False,\n",
      "fp16_backend=auto,\n",
      "fp16_full_eval=False,\n",
      "fp16_opt_level=O1,\n",
      "gradient_accumulation_steps=1,\n",
      "gradient_checkpointing=False,\n",
      "greater_is_better=None,\n",
      "group_by_length=False,\n",
      "half_precision_backend=auto,\n",
      "hub_model_id=None,\n",
      "hub_strategy=HubStrategy.EVERY_SAVE,\n",
      "hub_token=<HUB_TOKEN>,\n",
      "ignore_data_skip=False,\n",
      "label_names=None,\n",
      "label_smoothing_factor=0.0,\n",
      "learning_rate=0.0001,\n",
      "length_column_name=length,\n",
      "load_best_model_at_end=False,\n",
      "local_rank=-1,\n",
      "log_level=-1,\n",
      "log_level_replica=-1,\n",
      "log_on_each_node=True,\n",
      "logging_dir=/runs/tokcl-NER-2022-02-10T09-23-32.044106,\n",
      "logging_first_step=False,\n",
      "logging_nan_inf_filter=True,\n",
      "logging_steps=100,\n",
      "logging_strategy=IntervalStrategy.STEPS,\n",
      "lr_scheduler_type=SchedulerType.LINEAR,\n",
      "masking_probability=0.0,\n",
      "max_grad_norm=1.0,\n",
      "max_steps=-1,\n",
      "metric_for_best_model=None,\n",
      "mp_parameters=,\n",
      "no_cuda=False,\n",
      "num_train_epochs=5,\n",
      "output_dir=/tokcl_models,\n",
      "overwrite_output_dir=True,\n",
      "past_index=-1,\n",
      "per_device_eval_batch_size=16,\n",
      "per_device_train_batch_size=16,\n",
      "prediction_loss_only=True,\n",
      "push_to_hub=False,\n",
      "push_to_hub_model_id=None,\n",
      "push_to_hub_organization=None,\n",
      "push_to_hub_token=<PUSH_TO_HUB_TOKEN>,\n",
      "remove_unused_columns=False,\n",
      "replacement_probability=0.0,\n",
      "report_to=['tensorboard'],\n",
      "resume_from_checkpoint=None,\n",
      "run_name=/tokcl_models,\n",
      "save_on_each_node=False,\n",
      "save_steps=500,\n",
      "save_strategy=IntervalStrategy.STEPS,\n",
      "save_total_limit=5,\n",
      "seed=42,\n",
      "select_labels=False,\n",
      "sharded_ddp=[],\n",
      "skip_memory_metrics=True,\n",
      "tf32=None,\n",
      "tpu_metrics_debug=False,\n",
      "tpu_num_cores=None,\n",
      "use_legacy_prediction_loop=False,\n",
      "warmup_ratio=0.0,\n",
      "warmup_steps=0,\n",
      "weight_decay=0.0,\n",
      "xpu_backend=None,\n",
      ")\n",
      "CUDA available: True\n"
     ]
    },
    {
     "data": {
      "text/html": [
       "\n",
       "    <div>\n",
       "      \n",
       "      <progress value='1240' max='1240' style='width:300px; height:20px; vertical-align: middle;'></progress>\n",
       "      [1240/1240 12:00, Epoch 5/5]\n",
       "    </div>\n",
       "    <table border=\"1\" class=\"dataframe\">\n",
       "  <thead>\n",
       "    <tr style=\"text-align: left;\">\n",
       "      <th>Step</th>\n",
       "      <th>Training Loss</th>\n",
       "      <th>Validation Loss</th>\n",
       "    </tr>\n",
       "  </thead>\n",
       "  <tbody>\n",
       "    <tr>\n",
       "      <td>100</td>\n",
       "      <td>0.335000</td>\n",
       "      <td>0.181989</td>\n",
       "    </tr>\n",
       "    <tr>\n",
       "      <td>200</td>\n",
       "      <td>0.149600</td>\n",
       "      <td>0.173905</td>\n",
       "    </tr>\n",
       "    <tr>\n",
       "      <td>300</td>\n",
       "      <td>0.119100</td>\n",
       "      <td>0.181071</td>\n",
       "    </tr>\n",
       "    <tr>\n",
       "      <td>400</td>\n",
       "      <td>0.104500</td>\n",
       "      <td>0.172787</td>\n",
       "    </tr>\n",
       "    <tr>\n",
       "      <td>500</td>\n",
       "      <td>0.097200</td>\n",
       "      <td>0.172530</td>\n",
       "    </tr>\n",
       "    <tr>\n",
       "      <td>600</td>\n",
       "      <td>0.074300</td>\n",
       "      <td>0.189217</td>\n",
       "    </tr>\n",
       "    <tr>\n",
       "      <td>700</td>\n",
       "      <td>0.072100</td>\n",
       "      <td>0.183583</td>\n",
       "    </tr>\n",
       "    <tr>\n",
       "      <td>800</td>\n",
       "      <td>0.060700</td>\n",
       "      <td>0.192558</td>\n",
       "    </tr>\n",
       "    <tr>\n",
       "      <td>900</td>\n",
       "      <td>0.054500</td>\n",
       "      <td>0.193504</td>\n",
       "    </tr>\n",
       "    <tr>\n",
       "      <td>1000</td>\n",
       "      <td>0.051500</td>\n",
       "      <td>0.197006</td>\n",
       "    </tr>\n",
       "    <tr>\n",
       "      <td>1100</td>\n",
       "      <td>0.041900</td>\n",
       "      <td>0.204588</td>\n",
       "    </tr>\n",
       "    <tr>\n",
       "      <td>1200</td>\n",
       "      <td>0.040600</td>\n",
       "      <td>0.205984</td>\n",
       "    </tr>\n",
       "  </tbody>\n",
       "</table><p>"
      ],
      "text/plain": [
       "<IPython.core.display.HTML object>"
      ]
     },
     "metadata": {},
     "output_type": "display_data"
    },
    {
     "name": "stderr",
     "output_type": "stream",
     "text": [
      "***** Running Evaluation *****\n",
      "  Num examples = 4869\n",
      "  Batch size = 64\n"
     ]
    },
    {
     "name": "stdout",
     "output_type": "stream",
     "text": [
      "\n",
      "\n",
      "<s>\u001b[0mD\u001b[0m,\u001b[0m E\u001b[0m End\u001b[0mogenous\u001b[0m\u001b[1m\u001b[4m\u001b[38;5;4m SL\u001b[0m\u001b[1m\u001b[4m\u001b[38;5;3mX\u001b[0m\u001b[1m\u001b[4m\u001b[38;5;3m4\u001b[0m and\u001b[0m\u001b[1m\u001b[4m\u001b[38;5;4m ER\u001b[0m\u001b[1m\u001b[4m\u001b[38;5;3mCC\u001b[0m\u001b[1m\u001b[4m\u001b[38;5;3m1\u001b[0m were\u001b[0m\u001b[1m\u001b[4m\u001b[38;5;14m immun\u001b[0m\u001b[1m\u001b[4m\u001b[38;5;13mop\u001b[0m\u001b[1m\u001b[4m\u001b[38;5;13mrec\u001b[0m\u001b[1m\u001b[4m\u001b[38;5;13mip\u001b[0m\u001b[1m\u001b[4m\u001b[38;5;13mitated\u001b[0m from\u001b[0m extracts\u001b[0m of\u001b[0m WT\u001b[0m or\u001b[0m\u001b[1m\u001b[4m\u001b[38;5;4m ER\u001b[0m\u001b[1m\u001b[4m\u001b[38;5;3mCC\u001b[0m\u001b[1m\u001b[4m\u001b[38;5;3m1\u001b[0m KO\u001b[0m\u001b[1m\u001b[4m\u001b[38;5;8m ME\u001b[0m\u001b[1m\u001b[4m\u001b[38;5;7mFs\u001b[0m (\u001b[0mD\u001b[0m),\u001b[0m or\u001b[0m WT\u001b[0m or\u001b[0m\u001b[1m\u001b[4m\u001b[38;5;4m SL\u001b[0m\u001b[1m\u001b[4m\u001b[38;5;3mX\u001b[0m\u001b[1m\u001b[4m\u001b[38;5;3m4\u001b[0m KO\u001b[0m\u001b[1m\u001b[4m\u001b[38;5;8m ME\u001b[0m\u001b[1m\u001b[4m\u001b[38;5;7mFs\u001b[0m (\u001b[0mE\u001b[0m)\u001b[0m and\u001b[0m subjected\u001b[0m to\u001b[0m\u001b[1m\u001b[4m\u001b[38;5;14m immun\u001b[0m\u001b[1m\u001b[4m\u001b[38;5;13mob\u001b[0m\u001b[1m\u001b[4m\u001b[38;5;13mlot\u001b[0m\u001b[1m\u001b[4m\u001b[38;5;13mting\u001b[0m with\u001b[0m the\u001b[0m indicated\u001b[0m antibodies\u001b[0m.\u001b[0m \u001b[0m</s>\u001b[0m\n",
      "\n",
      "\n"
     ]
    },
    {
     "name": "stderr",
     "output_type": "stream",
     "text": [
      "***** Running Evaluation *****\n",
      "  Num examples = 4869\n",
      "  Batch size = 64\n"
     ]
    },
    {
     "name": "stdout",
     "output_type": "stream",
     "text": [
      "\n",
      "\n",
      "<s>\u001b[0m(\u001b[0mC\u001b[0m)\u001b[0m\u001b[1m\u001b[4m\u001b[38;5;8m PC\u001b[0m\u001b[1m\u001b[4m\u001b[38;5;7m9\u001b[0m\u001b[1m\u001b[4m\u001b[38;5;7mER\u001b[0m cells\u001b[0m were\u001b[0m treated\u001b[0m overnight\u001b[0m with\u001b[0m the\u001b[0m indicated\u001b[0m T\u001b[0mK\u001b[0mIs\u001b[0m,\u001b[0m or\u001b[0m with\u001b[0m 3\u001b[0mX\u001b[0mm\u001b[0mAbs\u001b[0m,\u001b[0m and\u001b[0m whole\u001b[0m cell\u001b[0m extracts\u001b[0m were\u001b[0m prepared\u001b[0m.\u001b[0m Cle\u001b[0mared\u001b[0m extracts\u001b[0m were\u001b[0m\u001b[1m\u001b[4m\u001b[38;5;14m elect\u001b[0m\u001b[1m\u001b[4m\u001b[38;5;13mroph\u001b[0m\u001b[1m\u001b[4m\u001b[38;5;13mores\u001b[0m\u001b[1m\u001b[4m\u001b[38;5;13med\u001b[0m,\u001b[0m and\u001b[0m resolved\u001b[0m proteins\u001b[0m were\u001b[0m transferred\u001b[0m onto\u001b[0m filters\u001b[0m.\u001b[0m Fil\u001b[0mters\u001b[0m were\u001b[0m\u001b[1m\u001b[4m\u001b[38;5;14m immun\u001b[0m\u001b[1m\u001b[4m\u001b[38;5;13mobl\u001b[0m\u001b[1m\u001b[4m\u001b[38;5;13motted\u001b[0m for\u001b[0m the\u001b[0m indicated\u001b[0m proteins\u001b[0m or\u001b[0m for\u001b[0m their\u001b[0m phosph\u001b[0mory\u001b[0mlated\u001b[0m forms\u001b[0m.\u001b[0m Bl\u001b[0mots\u001b[0m are\u001b[0m representative\u001b[0m of\u001b[0m two\u001b[0m independent\u001b[0m experiments\u001b[0m.\u001b[0m \u001b[0m</s>\u001b[0m\n",
      "\n",
      "\n"
     ]
    },
    {
     "name": "stderr",
     "output_type": "stream",
     "text": [
      "***** Running Evaluation *****\n",
      "  Num examples = 4869\n",
      "  Batch size = 64\n"
     ]
    },
    {
     "name": "stdout",
     "output_type": "stream",
     "text": [
      "\n",
      "\n",
      "<s>\u001b[0m\u001b[1m\u001b[4m\u001b[38;5;14mWestern\u001b[0m\u001b[1m\u001b[4m\u001b[38;5;13m bl\u001b[0m\u001b[1m\u001b[4m\u001b[38;5;13mots\u001b[0m showing\u001b[0m\u001b[1m\u001b[4m\u001b[38;5;14m co\u001b[0m\u001b[1m\u001b[4m\u001b[38;5;13m-\u001b[0m\u001b[1m\u001b[4m\u001b[38;5;13mim\u001b[0m\u001b[1m\u001b[4m\u001b[38;5;13mmun\u001b[0m\u001b[1m\u001b[4m\u001b[38;5;13mop\u001b[0m\u001b[1m\u001b[4m\u001b[38;5;13mrec\u001b[0m\u001b[1m\u001b[4m\u001b[38;5;13mip\u001b[0m\u001b[1m\u001b[4m\u001b[38;5;13mitation\u001b[0m of\u001b[0m\u001b[1m\u001b[4m\u001b[38;5;4m G\u001b[0m\u001b[1m\u001b[4m\u001b[38;5;3mAPD\u001b[0m\u001b[1m\u001b[4m\u001b[38;5;3mH\u001b[0m from\u001b[0m the\u001b[0m total\u001b[0m l\u001b[0mys\u001b[0mate\u001b[0m (\u001b[0mleft\u001b[0m)\u001b[0m and\u001b[0m isolated\u001b[0m\u001b[1m\u001b[4m\u001b[38;5;6m mitochond\u001b[0m\u001b[1m\u001b[4m\u001b[38;5;5mria\u001b[0m (\u001b[0mright\u001b[0m)\u001b[0m of\u001b[0m\u001b[1m\u001b[4m\u001b[38;5;10m brain\u001b[0m tissues\u001b[0m of\u001b[0m wild\u001b[0m-\u001b[0mtype\u001b[0m (\u001b[0mWT\u001b[0m)\u001b[0m and\u001b[0m trans\u001b[0mgenic\u001b[0m R\u001b[0m\u001b[1m\u001b[4m\u001b[38;5;11m6\u001b[0m/\u001b[0m\u001b[1m\u001b[4m\u001b[38;5;11m2\u001b[0m (\u001b[0mHD\u001b[0m)\u001b[0m\u001b[1m\u001b[4m\u001b[38;5;12m mice\u001b[0m with\u001b[0m anti\u001b[0m-\u001b[0m\u001b[1m\u001b[4m\u001b[38;5;4mG\u001b[0m\u001b[1m\u001b[4m\u001b[38;5;3mAPD\u001b[0m\u001b[1m\u001b[4m\u001b[38;5;3mH\u001b[0m antibody\u001b[0m.\u001b[0m The\u001b[0m presence\u001b[0m of\u001b[0m\u001b[1m\u001b[4m\u001b[38;5;4m hunting\u001b[0m\u001b[1m\u001b[4m\u001b[38;5;3mtin\u001b[0m was\u001b[0m examined\u001b[0m with\u001b[0m anti\u001b[0m-\u001b[0m\u001b[1m\u001b[4m\u001b[38;5;4mhun\u001b[0m\u001b[1m\u001b[4m\u001b[38;5;3mting\u001b[0m\u001b[1m\u001b[4m\u001b[38;5;3mtin\u001b[0m antibody\u001b[0m and\u001b[0m anti\u001b[0m-\u001b[0m\u001b[1m\u001b[38;5;2mpoly\u001b[0m\u001b[1m\u001b[38;5;1mgl\u001b[0m\u001b[1m\u001b[38;5;1mut\u001b[0m\u001b[1m\u001b[38;5;1mamine\u001b[0m antibody\u001b[0m,\u001b[0m respectively\u001b[0m.\u001b[0m\u001b[1m\u001b[4m\u001b[38;5;14m Co\u001b[0m\u001b[1m\u001b[4m\u001b[38;5;13m-\u001b[0m\u001b[1m\u001b[4m\u001b[38;5;13mim\u001b[0m\u001b[1m\u001b[4m\u001b[38;5;13mmun\u001b[0m\u001b[1m\u001b[4m\u001b[38;5;13mop\u001b[0m\u001b[1m\u001b[4m\u001b[38;5;13mrec\u001b[0m\u001b[1m\u001b[4m\u001b[38;5;13mip\u001b[0m\u001b[1m\u001b[4m\u001b[38;5;13mitated\u001b[0m\u001b[1m\u001b[4m\u001b[38;5;4m hunting\u001b[0m\u001b[1m\u001b[4m\u001b[38;5;3mtin\u001b[0m or\u001b[0m\u001b[1m\u001b[38;5;2m poly\u001b[0m\u001b[1m\u001b[38;5;1mgl\u001b[0m\u001b[1m\u001b[38;5;1mut\u001b[0m\u001b[1m\u001b[38;5;1mamine\u001b[0m (\u001b[0mpoly\u001b[0mQ\u001b[0m)\u001b[0m was\u001b[0m normalized\u001b[0m to\u001b[0m\u001b[1m\u001b[4m\u001b[38;5;4m G\u001b[0m\u001b[1m\u001b[4m\u001b[38;5;3mAPD\u001b[0m\u001b[1m\u001b[4m\u001b[38;5;3mH\u001b[0m.\u001b[0m Left\u001b[0m:\u001b[0m n\u001b[0m =\u001b[0m 2\u001b[0m.\u001b[0m *\u001b[0mP\u001b[0m =\u001b[0m 0\u001b[0m.\u001b[0m03\u001b[0m;\u001b[0m **\u001b[0mP\u001b[0m =\u001b[0m 0\u001b[0m.\u001b[0m02\u001b[0m.\u001b[0m Right\u001b[0m:\u001b[0m One\u001b[0m representative\u001b[0m experiment\u001b[0m from\u001b[0m two\u001b[0m repeats\u001b[0m.\u001b[0m \u001b[0m</s>\u001b[0m\n",
      "\n",
      "\n"
     ]
    },
    {
     "name": "stderr",
     "output_type": "stream",
     "text": [
      "***** Running Evaluation *****\n",
      "  Num examples = 4869\n",
      "  Batch size = 64\n"
     ]
    },
    {
     "name": "stdout",
     "output_type": "stream",
     "text": [
      "\n",
      "\n",
      "<s>\u001b[0m(\u001b[0mD\u001b[0m)\u001b[0m\u001b[1m\u001b[4m\u001b[38;5;8m PC\u001b[0m\u001b[1m\u001b[4m\u001b[38;5;7m9\u001b[0m\u001b[1m\u001b[4m\u001b[38;5;7mER\u001b[0m cells\u001b[0m were\u001b[0m treated\u001b[0m for\u001b[0m the\u001b[0m indicated\u001b[0m time\u001b[0m intervals\u001b[0m with\u001b[0m\u001b[1m\u001b[4m\u001b[38;5;2m o\u001b[0m\u001b[1m\u001b[4m\u001b[38;5;1msim\u001b[0m\u001b[1m\u001b[4m\u001b[38;5;1mert\u001b[0m\u001b[1m\u001b[4m\u001b[38;5;1min\u001b[0m\u001b[1m\u001b[4m\u001b[38;5;1mib\u001b[0m (\u001b[0m500\u001b[0m n\u001b[0mM\u001b[0m),\u001b[0m 3\u001b[0mX\u001b[0mm\u001b[0mAbs\u001b[0m (\u001b[0m20\u001b[0m μg\u001b[0m/\u001b[0mmL\u001b[0m),\u001b[0m or\u001b[0m the\u001b[0m combination\u001b[0m of\u001b[0m both\u001b[0m treatments\u001b[0m.\u001b[0m Whole\u001b[0m cell\u001b[0m extracts\u001b[0m were\u001b[0m analyzed\u001b[0m for\u001b[0m\u001b[1m\u001b[4m\u001b[38;5;4m c\u001b[0m\u001b[1m\u001b[4m\u001b[38;5;3masp\u001b[0m\u001b[1m\u001b[4m\u001b[38;5;3mase\u001b[0m\u001b[1m\u001b[4m\u001b[38;5;3m 9\u001b[0m and\u001b[0m cle\u001b[0mavage\u001b[0m products\u001b[0m.\u001b[0m\u001b[1m\u001b[4m\u001b[38;5;4m G\u001b[0m\u001b[1m\u001b[4m\u001b[38;5;3mAPD\u001b[0m\u001b[1m\u001b[4m\u001b[38;5;3mH\u001b[0m levels\u001b[0m were\u001b[0m used\u001b[0m for\u001b[0m comparison\u001b[0m of\u001b[0m gel\u001b[0m loading\u001b[0m.\u001b[0m \u001b[0m</s>\u001b[0m\n",
      "\n",
      "\n"
     ]
    },
    {
     "name": "stderr",
     "output_type": "stream",
     "text": [
      "***** Running Evaluation *****\n",
      "  Num examples = 4869\n",
      "  Batch size = 64\n"
     ]
    },
    {
     "name": "stdout",
     "output_type": "stream",
     "text": [
      "\n",
      "\n",
      "<s>\u001b[0mF\u001b[0m,\u001b[0m G\u001b[0m\u001b[1m\u001b[4m\u001b[38;5;14m PLA\u001b[0m for\u001b[0m\u001b[1m\u001b[4m\u001b[38;5;4m Park\u001b[0m\u001b[1m\u001b[4m\u001b[38;5;3min\u001b[0m and\u001b[0m �\u001b[0m�\u001b[0m\u001b[1m\u001b[4m\u001b[38;5;4mT\u001b[0m\u001b[1m\u001b[4m\u001b[38;5;3mau\u001b[0m,\u001b[0m revealing\u001b[0m\u001b[1m\u001b[4m\u001b[38;5;14m interactions\u001b[0m via\u001b[0m the\u001b[0m projection\u001b[0m domain\u001b[0m of\u001b[0m\u001b[1m\u001b[4m\u001b[38;5;4m t\u001b[0m\u001b[1m\u001b[4m\u001b[38;5;3mau\u001b[0m.\u001b[0m Data\u001b[0m were\u001b[0m analysed\u001b[0m with\u001b[0m a\u001b[0m Mann\u001b[0m-\u001b[0mWhit\u001b[0mney\u001b[0m test\u001b[0m (\u001b[0mU\u001b[0m =\u001b[0m 185\u001b[0m,\u001b[0m p\u001b[0m =\u001b[0m 0\u001b[0m.\u001b[0m92\u001b[0m24\u001b[0m,\u001b[0m n\u001b[0m =\u001b[0m 21\u001b[0m,\u001b[0m 18\u001b[0m cells\u001b[0m/\u001b[0mgroup\u001b[0m for\u001b[0m h\u001b[0m\u001b[1m\u001b[38;5;4mT\u001b[0m\u001b[1m\u001b[4m\u001b[38;5;3mau\u001b[0m and\u001b[0m �\u001b[0m�\u001b[0m\u001b[1m\u001b[4m\u001b[38;5;4mT\u001b[0m\u001b[1m\u001b[4m\u001b[38;5;3mau\u001b[0m,\u001b[0m respectively\u001b[0m).\u001b[0m Data\u001b[0m information\u001b[0m:\u001b[0m Scale\u001b[0m bars\u001b[0m =\u001b[0m 10\u001b[0m μ\u001b[0mm\u001b[0m.\u001b[0m Data\u001b[0m are\u001b[0m given\u001b[0m as\u001b[0m mean\u001b[0m and\u001b[0m SEM\u001b[0m,\u001b[0m **\u001b[0m =\u001b[0m p\u001b[0m <\u001b[0m 0\u001b[0m.\u001b[0m01\u001b[0m,\u001b[0m ****\u001b[0m =\u001b[0m p\u001b[0m <\u001b[0m 0\u001b[0m.\u001b[0m0001\u001b[0m.\u001b[0m \u001b[0m</s>\u001b[0m\n",
      "\n",
      "\n"
     ]
    },
    {
     "name": "stderr",
     "output_type": "stream",
     "text": [
      "Saving model checkpoint to /tokcl_models/checkpoint-500\n",
      "Configuration saved in /tokcl_models/checkpoint-500/config.json\n",
      "Model weights saved in /tokcl_models/checkpoint-500/pytorch_model.bin\n",
      "/opt/conda/lib/python3.8/site-packages/transformers/tokenization_utils_base.py:2242: UserWarning: `max_length` is ignored when `padding`=`True` and there is no truncation strategy. To pad to max length, use `padding='max_length'`.\n",
      "  warnings.warn(\n",
      "/opt/conda/lib/python3.8/site-packages/torch/nn/parallel/_functions.py:64: UserWarning: Was asked to gather along dimension 0, but all input tensors were scalars; will instead unsqueeze and return a vector.\n",
      "  warnings.warn('Was asked to gather along dimension 0, but all '\n",
      "***** Running Evaluation *****\n",
      "  Num examples = 4869\n",
      "  Batch size = 64\n"
     ]
    },
    {
     "name": "stdout",
     "output_type": "stream",
     "text": [
      "\n",
      "\n",
      "<s>\u001b[0mB\u001b[0m.\u001b[0m Percentage\u001b[0m of\u001b[0m\u001b[1m\u001b[4m\u001b[38;5;4m IF\u001b[0m\u001b[1m\u001b[4m\u001b[38;5;3mN\u001b[0m\u001b[1m\u001b[4m\u001b[38;5;3mγ\u001b[0m+\u001b[0m/\u001b[0m\u001b[1m\u001b[4m\u001b[38;5;4mIL\u001b[0m\u001b[1m\u001b[4m\u001b[38;5;3m-\u001b[0m\u001b[1m\u001b[4m\u001b[38;5;3m10\u001b[0m+\u001b[0m live\u001b[0m\u001b[1m\u001b[4m\u001b[38;5;4m T\u001b[0m\u001b[1m\u001b[4m\u001b[38;5;3mCR\u001b[0m\u001b[1m\u001b[4m\u001b[38;5;3mβ\u001b[0m+\u001b[0m\u001b[1m\u001b[38;5;4m CD\u001b[0m\u001b[1m\u001b[38;5;3m4\u001b[0m+\u001b[0m cells\u001b[0m from\u001b[0m\u001b[1m\u001b[4m\u001b[38;5;12m L\u001b[0m\u001b[1m\u001b[4m\u001b[38;5;11m.\u001b[0m\u001b[1m\u001b[4m\u001b[38;5;11m don\u001b[0m\u001b[1m\u001b[4m\u001b[38;5;11mov\u001b[0m\u001b[1m\u001b[4m\u001b[38;5;11mani\u001b[0m infected\u001b[0m WT\u001b[0m (\u001b[0mblue\u001b[0m)\u001b[0m or\u001b[0m\u001b[1m\u001b[4m\u001b[38;5;4m mi\u001b[0m\u001b[1m\u001b[4m\u001b[38;5;3mR\u001b[0m\u001b[1m\u001b[4m\u001b[38;5;3m-\u001b[0m\u001b[1m\u001b[4m\u001b[38;5;3m132\u001b[0m-\u001b[0m/-\u001b[0m (\u001b[0mred\u001b[0m)\u001b[0m\u001b[1m\u001b[4m\u001b[38;5;12m mice\u001b[0m,\u001b[0m determined\u001b[0m by\u001b[0m\u001b[1m\u001b[4m\u001b[38;5;14m intr\u001b[0m\u001b[1m\u001b[4m\u001b[38;5;13mace\u001b[0m\u001b[1m\u001b[4m\u001b[38;5;13mllular\u001b[0m\u001b[1m\u001b[4m\u001b[38;5;13m cytok\u001b[0m\u001b[1m\u001b[4m\u001b[38;5;13mine\u001b[0m\u001b[1m\u001b[4m\u001b[38;5;13m st\u001b[0m\u001b[1m\u001b[4m\u001b[38;5;13maining\u001b[0m.\u001b[0m Data\u001b[0m representative\u001b[0m of\u001b[0m 3\u001b[0m independent\u001b[0m experiments\u001b[0m with\u001b[0m 3\u001b[0m-\u001b[0m5\u001b[0m\u001b[1m\u001b[4m\u001b[38;5;12m mice\u001b[0m per\u001b[0m group\u001b[0m.\u001b[0m Data\u001b[0m information\u001b[0m:\u001b[0m statistical\u001b[0m significance\u001b[0m was\u001b[0m determined\u001b[0m by\u001b[0m unp\u001b[0maired\u001b[0m t\u001b[0m-\u001b[0mtest\u001b[0m.\u001b[0m *\u001b[0m p\u001b[0m<\u001b[0m0\u001b[0m.\u001b[0m05\u001b[0m,\u001b[0m **\u001b[0m p\u001b[0m<\u001b[0m0\u001b[0m.\u001b[0m01\u001b[0m,\u001b[0m ***\u001b[0m p\u001b[0m<\u001b[0m0\u001b[0m.\u001b[0m001\u001b[0m.\u001b[0m NS\u001b[0m:\u001b[0m not\u001b[0m significant\u001b[0m.\u001b[0m \u001b[0m</s>\u001b[0m\n",
      "\n",
      "\n"
     ]
    },
    {
     "name": "stderr",
     "output_type": "stream",
     "text": [
      "***** Running Evaluation *****\n",
      "  Num examples = 4869\n",
      "  Batch size = 64\n"
     ]
    },
    {
     "name": "stdout",
     "output_type": "stream",
     "text": [
      "\n",
      "\n",
      "<s>\u001b[0m(\u001b[0mE\u001b[0m)\u001b[0m\u001b[1m\u001b[4m\u001b[38;5;14m Immun\u001b[0m\u001b[1m\u001b[4m\u001b[38;5;13moh\u001b[0m\u001b[1m\u001b[4m\u001b[38;5;13mist\u001b[0m\u001b[1m\u001b[4m\u001b[38;5;13mochemical\u001b[0m\u001b[1m\u001b[4m\u001b[38;5;13m st\u001b[0m\u001b[1m\u001b[4m\u001b[38;5;13maining\u001b[0m for\u001b[0m cle\u001b[0maved\u001b[0m\u001b[1m\u001b[4m\u001b[38;5;4m c\u001b[0m\u001b[1m\u001b[4m\u001b[38;5;3masp\u001b[0m\u001b[1m\u001b[4m\u001b[38;5;3mase\u001b[0m\u001b[1m\u001b[4m\u001b[38;5;3m 3\u001b[0m performed\u001b[0m on\u001b[0m par\u001b[0maff\u001b[0min\u001b[0m-\u001b[0membed\u001b[0mded\u001b[0m sections\u001b[0m derived\u001b[0m from\u001b[0m\u001b[1m\u001b[38;5;12m xen\u001b[0m\u001b[1m\u001b[38;5;11mog\u001b[0m\u001b[1m\u001b[38;5;11mraft\u001b[0m\u001b[1m\u001b[38;5;11ms\u001b[0m of\u001b[0m either\u001b[0m\u001b[1m\u001b[4m\u001b[38;5;8m PC\u001b[0m\u001b[1m\u001b[4m\u001b[38;5;7m9\u001b[0mER\u001b[0m or\u001b[0m\u001b[1m\u001b[4m\u001b[38;5;8m H\u001b[0m\u001b[1m\u001b[4m\u001b[38;5;7m1975\u001b[0m cells\u001b[0m.\u001b[0m Two\u001b[0m weeks\u001b[0m after\u001b[0m\u001b[1m\u001b[4m\u001b[38;5;10m tumor\u001b[0m inoc\u001b[0mulation\u001b[0m,\u001b[0m\u001b[1m\u001b[4m\u001b[38;5;12m mice\u001b[0m were\u001b[0m randomized\u001b[0m (\u001b[0m3\u001b[0m-\u001b[0m4\u001b[0m\u001b[1m\u001b[4m\u001b[38;5;12m mice\u001b[0m/\u001b[0mgroup\u001b[0m)\u001b[0m and\u001b[0m treated\u001b[0m for\u001b[0m 12\u001b[0m days\u001b[0m either\u001b[0m with\u001b[0m vehicle\u001b[0m,\u001b[0m 3\u001b[0mX\u001b[0mm\u001b[0mAbs\u001b[0m (\u001b[0m\u001b[1m\u001b[4m\u001b[38;5;2mCT\u001b[0m\u001b[1m\u001b[4m\u001b[38;5;1mX\u001b[0m,\u001b[0m\u001b[1m\u001b[4m\u001b[38;5;2m TR\u001b[0m\u001b[1m\u001b[4m\u001b[38;5;1mZ\u001b[0m and\u001b[0m\u001b[1m\u001b[4m\u001b[38;5;4m m\u001b[0m\u001b[1m\u001b[4m\u001b[38;5;3mAb\u001b[0m33\u001b[0m;\u001b[0m 0\u001b[0m.\u001b[0m2\u001b[0m mg\u001b[0m/\u001b[0m\u001b[1m\u001b[4m\u001b[38;5;12mmouse\u001b[0m/\u001b[0min\u001b[0mjection\u001b[0m,\u001b[0m once\u001b[0m every\u001b[0m three\u001b[0m days\u001b[0m)\u001b[0m or\u001b[0m\u001b[1m\u001b[4m\u001b[38;5;2m o\u001b[0m\u001b[1m\u001b[4m\u001b[38;5;1msim\u001b[0m\u001b[1m\u001b[4m\u001b[38;5;1mert\u001b[0m\u001b[1m\u001b[4m\u001b[38;5;1min\u001b[0m\u001b[1m\u001b[4m\u001b[38;5;1mib\u001b[0m (\u001b[0m5\u001b[0m mg\u001b[0m/\u001b[0mkg\u001b[0m/\u001b[0min\u001b[0mjection\u001b[0m,\u001b[0m once\u001b[0m daily\u001b[0m).\u001b[0m Sh\u001b[0mown\u001b[0m is\u001b[0m\u001b[1m\u001b[4m\u001b[38;5;14m immun\u001b[0m\u001b[1m\u001b[4m\u001b[38;5;13moh\u001b[0m\u001b[1m\u001b[4m\u001b[38;5;13mist\u001b[0m\u001b[1m\u001b[4m\u001b[38;5;13mochemical\u001b[0m\u001b[1m\u001b[4m\u001b[38;5;13m st\u001b[0m\u001b[1m\u001b[4m\u001b[38;5;13maining\u001b[0m for\u001b[0m the\u001b[0m cle\u001b[0maved\u001b[0m form\u001b[0m of\u001b[0m\u001b[1m\u001b[4m\u001b[38;5;4m c\u001b[0m\u001b[1m\u001b[4m\u001b[38;5;3masp\u001b[0m\u001b[1m\u001b[4m\u001b[38;5;3mase\u001b[0m\u001b[1m\u001b[4m\u001b[38;5;3m 3\u001b[0m in\u001b[0m par\u001b[0maff\u001b[0min\u001b[0m-\u001b[0membed\u001b[0mded\u001b[0m sections\u001b[0m.\u001b[0m Scale\u001b[0m bars\u001b[0m,\u001b[0m 100\u001b[0m μ\u001b[0mm\u001b[0m.\u001b[0m Also\u001b[0m shown\u001b[0m is\u001b[0m a\u001b[0m quant\u001b[0mification\u001b[0m of\u001b[0m the\u001b[0m results\u001b[0m obtained\u001b[0m in\u001b[0m three\u001b[0m different\u001b[0m experiments\u001b[0m.\u001b[0m ****\u001b[0m,\u001b[0m p\u001b[0m<\u001b[0m0\u001b[0m.\u001b[0m0001\u001b[0m;\u001b[0m ***\u001b[0m,\u001b[0m p\u001b[0m<\u001b[0m0\u001b[0m.\u001b[0m001\u001b[0m;\u001b[0m *\u001b[0m,\u001b[0m p\u001b[0m<\u001b[0m0\u001b[0m.\u001b[0m05\u001b[0m;\u001b[0m n\u001b[0m=\u001b[0m3\u001b[0m;\u001b[0m one\u001b[0m-\u001b[0mway\u001b[0m AN\u001b[0mOVA\u001b[0m,\u001b[0m with\u001b[0m Tu\u001b[0mkey\u001b[0m\"\u001b[0ms\u001b[0m test\u001b[0m.\u001b[0m \u001b[0m</s>\u001b[0m\n",
      "\n",
      "\n"
     ]
    },
    {
     "name": "stderr",
     "output_type": "stream",
     "text": [
      "***** Running Evaluation *****\n",
      "  Num examples = 4869\n",
      "  Batch size = 64\n"
     ]
    },
    {
     "name": "stdout",
     "output_type": "stream",
     "text": [
      "\n",
      "\n",
      "<s>\u001b[0m(\u001b[0mB\u001b[0m)\u001b[0m\u001b[1m\u001b[4m\u001b[38;5;8m Mel\u001b[0m\u001b[1m\u001b[4m\u001b[38;5;7mJ\u001b[0m\u001b[1m\u001b[4m\u001b[38;5;7mus\u001b[0m\u001b[1m\u001b[4m\u001b[38;5;7mo\u001b[0m cells\u001b[0m were\u001b[0m trans\u001b[0mfect\u001b[0med\u001b[0m with\u001b[0m two\u001b[0m different\u001b[0m si\u001b[0mRN\u001b[0mAs\u001b[0m against\u001b[0m\u001b[1m\u001b[4m\u001b[38;5;4m NR\u001b[0m\u001b[1m\u001b[4m\u001b[38;5;3mAS\u001b[0m (\u001b[0msi\u001b[0m#\u001b[0m1\u001b[0m,\u001b[0m si\u001b[0m#\u001b[0m2\u001b[0m),\u001b[0m their\u001b[0m combination\u001b[0m (\u001b[0msi\u001b[0mPool\u001b[0m)\u001b[0m or\u001b[0m with\u001b[0m a\u001b[0m non\u001b[0m-\u001b[0mtarget\u001b[0med\u001b[0m si\u001b[0mRNA\u001b[0m sequence\u001b[0m (\u001b[0mNT\u001b[0msi\u001b[0mRNA\u001b[0m).\u001b[0m A\u001b[0m double\u001b[0m si\u001b[0mRNA\u001b[0m trans\u001b[0mfect\u001b[0mion\u001b[0m (\u001b[0m48\u001b[0m and\u001b[0m 72\u001b[0m hrs\u001b[0m)\u001b[0m was\u001b[0m performed\u001b[0m to\u001b[0m have\u001b[0m an\u001b[0m optimal\u001b[0m knock\u001b[0mdown\u001b[0m.\u001b[0m Cells\u001b[0m were\u001b[0m treated\u001b[0m with\u001b[0m\u001b[1m\u001b[4m\u001b[38;5;2m 2\u001b[0m\u001b[1m\u001b[4m\u001b[38;5;1mD\u001b[0m\u001b[1m\u001b[4m\u001b[38;5;1mG\u001b[0m (\u001b[0m11\u001b[0mm\u001b[0mM\u001b[0m)\u001b[0m for\u001b[0m 4\u001b[0m hrs\u001b[0m.\u001b[0m Cell\u001b[0m l\u001b[0mys\u001b[0mates\u001b[0m were\u001b[0m\u001b[1m\u001b[4m\u001b[38;5;14m western\u001b[0m\u001b[1m\u001b[4m\u001b[38;5;13m bl\u001b[0m\u001b[1m\u001b[4m\u001b[38;5;13motted\u001b[0m for\u001b[0m\u001b[1m\u001b[4m\u001b[38;5;4m NR\u001b[0m\u001b[1m\u001b[4m\u001b[38;5;3mAS\u001b[0m,\u001b[0m phosph\u001b[0mo\u001b[0m-\u001b[0m\u001b[1m\u001b[4m\u001b[38;5;4mME\u001b[0m\u001b[1m\u001b[4m\u001b[38;5;3mK\u001b[0m\u001b[1m\u001b[4m\u001b[38;5;3m1\u001b[0m/\u001b[0m2\u001b[0m (\u001b[0mp\u001b[0m\u001b[1m\u001b[4m\u001b[38;5;4mME\u001b[0m\u001b[1m\u001b[4m\u001b[38;5;3mK\u001b[0m\u001b[1m\u001b[4m\u001b[38;5;3m1\u001b[0m/\u001b[0m2\u001b[0m),\u001b[0m total\u001b[0m\u001b[1m\u001b[4m\u001b[38;5;4m ME\u001b[0m\u001b[1m\u001b[4m\u001b[38;5;3mK\u001b[0m\u001b[1m\u001b[4m\u001b[38;5;3m2\u001b[0m and\u001b[0m\u001b[1m\u001b[4m\u001b[38;5;4m α\u001b[0m\u001b[1m\u001b[4m\u001b[38;5;3m-\u001b[0m\u001b[1m\u001b[4m\u001b[38;5;3mtub\u001b[0m\u001b[1m\u001b[4m\u001b[38;5;3mulin\u001b[0m.\u001b[0m \u001b[0m</s>\u001b[0m\n",
      "\n",
      "\n"
     ]
    },
    {
     "name": "stderr",
     "output_type": "stream",
     "text": [
      "***** Running Evaluation *****\n",
      "  Num examples = 4869\n",
      "  Batch size = 64\n"
     ]
    },
    {
     "name": "stdout",
     "output_type": "stream",
     "text": [
      "\n",
      "\n",
      "<s>\u001b[0m(\u001b[0mA\u001b[0m)\u001b[0m\u001b[1m\u001b[4m\u001b[38;5;10m Muscle\u001b[0m \u001b[0m\u001b[1m\u001b[4m\u001b[38;5;14mmass\u001b[0m in\u001b[0m\u001b[1m\u001b[4m\u001b[38;5;12m A\u001b[0m\u001b[1m\u001b[4m\u001b[38;5;11mAV\u001b[0m-\u001b[0msh\u001b[0mRNA\u001b[0m injected\u001b[0m\u001b[1m\u001b[4m\u001b[38;5;12m mice\u001b[0m (\u001b[0mn\u001b[0m=\u001b[0m8\u001b[0m).\u001b[0m The\u001b[0m\u001b[1m\u001b[4m\u001b[38;5;10m TA\u001b[0m\u001b[1m\u001b[4m\u001b[38;5;14mweights\u001b[0m were\u001b[0m normalized\u001b[0m by\u001b[0m the\u001b[0m total\u001b[0m\u001b[1m\u001b[38;5;14m body\u001b[0m\u001b[1m\u001b[38;5;14mweight\u001b[0m (\u001b[0mmg\u001b[0m/\u001b[0mg\u001b[0m).\u001b[0m BW\u001b[0m:\u001b[0m\u001b[1m\u001b[38;5;14m Body\u001b[0m\u001b[1m\u001b[38;5;13m weight\u001b[0m.\u001b[0m In\u001b[0m A\u001b[0m,\u001b[0m C\u001b[0m,\u001b[0m E\u001b[0m,\u001b[0m F\u001b[0m sc\u001b[0matters\u001b[0m blot\u001b[0m,\u001b[0m bars\u001b[0m represent\u001b[0m mean\u001b[0m ±\u001b[0m SEM\u001b[0m.\u001b[0m Statistical\u001b[0m analysis\u001b[0m was\u001b[0m performed\u001b[0m using\u001b[0m a\u001b[0m one\u001b[0m-\u001b[0mtailed\u001b[0m Mann\u001b[0m-\u001b[0mWhit\u001b[0mney\u001b[0m U\u001b[0m-\u001b[0mtest\u001b[0m *\u001b[0m P\u001b[0m<\u001b[0m0\u001b[0m.\u001b[0m05\u001b[0m,\u001b[0m **\u001b[0m P\u001b[0m<\u001b[0m0\u001b[0m.\u001b[0m01\u001b[0m and\u001b[0m ***\u001b[0m P\u001b[0m<\u001b[0m0\u001b[0m.\u001b[0m001\u001b[0m compared\u001b[0m to\u001b[0m WT\u001b[0m.\u001b[0m �\u001b[0m�\u001b[0m P\u001b[0m<\u001b[0m0\u001b[0m.\u001b[0m05\u001b[0m,\u001b[0m �\u001b[0m�\u001b[0m†\u001b[0m P\u001b[0m<\u001b[0m0\u001b[0m.\u001b[0m01\u001b[0m and\u001b[0m �\u001b[0m�\u001b[0m†\u001b[0m†\u001b[0m P\u001b[0m<\u001b[0m0\u001b[0m.\u001b[0m001\u001b[0m compared\u001b[0m to\u001b[0m\u001b[1m\u001b[38;5;12m A\u001b[0m\u001b[1m\u001b[38;5;11mAV\u001b[0m-\u001b[0mcontrol\u001b[0m.\u001b[0m \u001b[0m</s>\u001b[0m\n",
      "\n",
      "\n"
     ]
    },
    {
     "name": "stderr",
     "output_type": "stream",
     "text": [
      "***** Running Evaluation *****\n",
      "  Num examples = 4869\n",
      "  Batch size = 64\n"
     ]
    },
    {
     "name": "stdout",
     "output_type": "stream",
     "text": [
      "\n",
      "\n",
      "<s>\u001b[0mD\u001b[0m.\u001b[0m Cor\u001b[0mrelation\u001b[0m analysis\u001b[0m of\u001b[0m M\u001b[0m2\u001b[0m like\u001b[0m\u001b[1m\u001b[38;5;10m tumor\u001b[0m accumulation\u001b[0m (\u001b[0m\u001b[1m\u001b[4m\u001b[38;5;4mM\u001b[0m\u001b[1m\u001b[4m\u001b[38;5;3mRC\u001b[0m\u001b[1m\u001b[4m\u001b[38;5;3m1\u001b[0m positive\u001b[0m)\u001b[0m with\u001b[0m\u001b[1m\u001b[4m\u001b[38;5;10m vessel\u001b[0m dys\u001b[0mmor\u001b[0mphia\u001b[0m depending\u001b[0m on\u001b[0m the\u001b[0m\u001b[1m\u001b[4m\u001b[38;5;10m tumor\u001b[0m grade\u001b[0m.\u001b[0m Statistical\u001b[0m analysis\u001b[0m:\u001b[0m A\u001b[0m.\u001b[0mC\u001b[0m.\u001b[0mD\u001b[0m.\u001b[0m one\u001b[0m-\u001b[0mway\u001b[0m AN\u001b[0mOVA\u001b[0m followed\u001b[0m by\u001b[0m multiple\u001b[0m comparisons\u001b[0m Tu\u001b[0mkey\u001b[0m's\u001b[0m test\u001b[0m;\u001b[0m \u001b[0m</s>\u001b[0m\n",
      "\n",
      "\n"
     ]
    },
    {
     "name": "stderr",
     "output_type": "stream",
     "text": [
      "Saving model checkpoint to /tokcl_models/checkpoint-1000\n",
      "Configuration saved in /tokcl_models/checkpoint-1000/config.json\n",
      "Model weights saved in /tokcl_models/checkpoint-1000/pytorch_model.bin\n",
      "/opt/conda/lib/python3.8/site-packages/transformers/tokenization_utils_base.py:2242: UserWarning: `max_length` is ignored when `padding`=`True` and there is no truncation strategy. To pad to max length, use `padding='max_length'`.\n",
      "  warnings.warn(\n",
      "/opt/conda/lib/python3.8/site-packages/torch/nn/parallel/_functions.py:64: UserWarning: Was asked to gather along dimension 0, but all input tensors were scalars; will instead unsqueeze and return a vector.\n",
      "  warnings.warn('Was asked to gather along dimension 0, but all '\n",
      "***** Running Evaluation *****\n",
      "  Num examples = 4869\n",
      "  Batch size = 64\n"
     ]
    },
    {
     "name": "stdout",
     "output_type": "stream",
     "text": [
      "\n",
      "\n",
      "<s>\u001b[0m(\u001b[0mC\u001b[0m)\u001b[0m\u001b[1m\u001b[4m\u001b[38;5;8m PC\u001b[0m\u001b[1m\u001b[4m\u001b[38;5;7m9\u001b[0mER\u001b[0m cells\u001b[0m were\u001b[0m treated\u001b[0m overnight\u001b[0m with\u001b[0m the\u001b[0m indicated\u001b[0m T\u001b[0mK\u001b[0mIs\u001b[0m,\u001b[0m or\u001b[0m with\u001b[0m 3\u001b[0mX\u001b[0mm\u001b[0mAbs\u001b[0m,\u001b[0m and\u001b[0m whole\u001b[0m cell\u001b[0m extracts\u001b[0m were\u001b[0m prepared\u001b[0m.\u001b[0m Cle\u001b[0mared\u001b[0m extracts\u001b[0m were\u001b[0m elect\u001b[0mroph\u001b[0mores\u001b[0med\u001b[0m,\u001b[0m and\u001b[0m resolved\u001b[0m proteins\u001b[0m were\u001b[0m transferred\u001b[0m onto\u001b[0m filters\u001b[0m.\u001b[0m Fil\u001b[0mters\u001b[0m were\u001b[0m\u001b[1m\u001b[4m\u001b[38;5;14m immun\u001b[0m\u001b[1m\u001b[4m\u001b[38;5;13mobl\u001b[0m\u001b[1m\u001b[4m\u001b[38;5;13motted\u001b[0m for\u001b[0m the\u001b[0m indicated\u001b[0m proteins\u001b[0m or\u001b[0m for\u001b[0m their\u001b[0m phosph\u001b[0mory\u001b[0mlated\u001b[0m forms\u001b[0m.\u001b[0m Bl\u001b[0mots\u001b[0m are\u001b[0m representative\u001b[0m of\u001b[0m two\u001b[0m independent\u001b[0m experiments\u001b[0m.\u001b[0m \u001b[0m</s>\u001b[0m\n",
      "\n",
      "\n"
     ]
    },
    {
     "name": "stderr",
     "output_type": "stream",
     "text": [
      "***** Running Evaluation *****\n",
      "  Num examples = 4869\n",
      "  Batch size = 64\n"
     ]
    },
    {
     "name": "stdout",
     "output_type": "stream",
     "text": [
      "\n",
      "\n",
      "<s>\u001b[0m(\u001b[0mB\u001b[0m)\u001b[0m\u001b[1m\u001b[4m\u001b[38;5;8m Mel\u001b[0m\u001b[1m\u001b[4m\u001b[38;5;7mJ\u001b[0m\u001b[1m\u001b[4m\u001b[38;5;7mus\u001b[0m\u001b[1m\u001b[4m\u001b[38;5;7mo\u001b[0m cells\u001b[0m were\u001b[0m trans\u001b[0mfect\u001b[0med\u001b[0m with\u001b[0m two\u001b[0m different\u001b[0m si\u001b[0mRN\u001b[0mAs\u001b[0m against\u001b[0m\u001b[1m\u001b[4m\u001b[38;5;4m NR\u001b[0m\u001b[1m\u001b[4m\u001b[38;5;3mAS\u001b[0m (\u001b[0msi\u001b[0m#\u001b[0m1\u001b[0m,\u001b[0m si\u001b[0m#\u001b[0m2\u001b[0m),\u001b[0m their\u001b[0m combination\u001b[0m (\u001b[0msi\u001b[0mPool\u001b[0m)\u001b[0m or\u001b[0m with\u001b[0m a\u001b[0m non\u001b[0m-\u001b[0mtarget\u001b[0med\u001b[0m si\u001b[0mRNA\u001b[0m sequence\u001b[0m (\u001b[0mNT\u001b[0msi\u001b[0mRNA\u001b[0m).\u001b[0m A\u001b[0m double\u001b[0m si\u001b[0mRNA\u001b[0m trans\u001b[0mfect\u001b[0mion\u001b[0m (\u001b[0m48\u001b[0m and\u001b[0m 72\u001b[0m hrs\u001b[0m)\u001b[0m was\u001b[0m performed\u001b[0m to\u001b[0m have\u001b[0m an\u001b[0m optimal\u001b[0m knock\u001b[0mdown\u001b[0m.\u001b[0m Cells\u001b[0m were\u001b[0m treated\u001b[0m with\u001b[0m\u001b[1m\u001b[4m\u001b[38;5;2m 2\u001b[0m\u001b[1m\u001b[4m\u001b[38;5;1mD\u001b[0m\u001b[1m\u001b[4m\u001b[38;5;1mG\u001b[0m (\u001b[0m11\u001b[0mm\u001b[0mM\u001b[0m)\u001b[0m for\u001b[0m 4\u001b[0m hrs\u001b[0m.\u001b[0m Cell\u001b[0m l\u001b[0mys\u001b[0mates\u001b[0m were\u001b[0m\u001b[1m\u001b[4m\u001b[38;5;14m western\u001b[0m\u001b[1m\u001b[4m\u001b[38;5;13m bl\u001b[0m\u001b[1m\u001b[4m\u001b[38;5;13motted\u001b[0m for\u001b[0m\u001b[1m\u001b[4m\u001b[38;5;4m NR\u001b[0m\u001b[1m\u001b[4m\u001b[38;5;3mAS\u001b[0m,\u001b[0m phosph\u001b[0m\u001b[1m\u001b[38;5;13mo\u001b[0m-\u001b[0m\u001b[1m\u001b[4m\u001b[38;5;4mME\u001b[0m\u001b[1m\u001b[4m\u001b[38;5;3mK\u001b[0m\u001b[1m\u001b[4m\u001b[38;5;3m1\u001b[0m/\u001b[0m2\u001b[0m (\u001b[0mp\u001b[0m\u001b[1m\u001b[4m\u001b[38;5;4mME\u001b[0m\u001b[1m\u001b[4m\u001b[38;5;3mK\u001b[0m\u001b[1m\u001b[4m\u001b[38;5;3m1\u001b[0m/\u001b[0m2\u001b[0m),\u001b[0m total\u001b[0m\u001b[1m\u001b[4m\u001b[38;5;4m ME\u001b[0m\u001b[1m\u001b[4m\u001b[38;5;3mK\u001b[0m\u001b[1m\u001b[4m\u001b[38;5;3m2\u001b[0m and\u001b[0m\u001b[1m\u001b[4m\u001b[38;5;4m α\u001b[0m\u001b[1m\u001b[4m\u001b[38;5;3m-\u001b[0m\u001b[1m\u001b[4m\u001b[38;5;3mtub\u001b[0m\u001b[1m\u001b[4m\u001b[38;5;3mulin\u001b[0m.\u001b[0m \u001b[0m</s>\u001b[0m\n",
      "\n",
      "\n"
     ]
    },
    {
     "name": "stderr",
     "output_type": "stream",
     "text": [
      "\n",
      "\n",
      "Training completed. Do not forget to share your model on huggingface.co/models =)\n",
      "\n",
      "\n",
      "Saving model checkpoint to /tokcl_models\n",
      "Configuration saved in /tokcl_models/config.json\n",
      "Model weights saved in /tokcl_models/pytorch_model.bin\n",
      "***** Running Prediction *****\n",
      "  Num examples = 2399\n",
      "  Batch size = 64\n"
     ]
    },
    {
     "name": "stdout",
     "output_type": "stream",
     "text": [
      "Testing on 2399.\n"
     ]
    },
    {
     "data": {
      "text/html": [
       "\n",
       "    <div>\n",
       "      \n",
       "      <progress value='38' max='38' style='width:300px; height:20px; vertical-align: middle;'></progress>\n",
       "      [38/38 00:06]\n",
       "    </div>\n",
       "    "
      ],
      "text/plain": [
       "<IPython.core.display.HTML object>"
      ]
     },
     "metadata": {},
     "output_type": "display_data"
    },
    {
     "name": "stdout",
     "output_type": "stream",
     "text": [
      "\n",
      "                                                                                \n",
      "                precision    recall  f1-score   support\n",
      "\n",
      "          CELL       0.82      0.83      0.82      2148\n",
      "     EXP_ASSAY       0.69      0.67      0.68      3328\n",
      "      GENEPROD       0.86      0.90      0.88      9966\n",
      "      ORGANISM       0.73      0.87      0.80      1742\n",
      "SMALL_MOLECULE       0.78      0.78      0.78      2012\n",
      "   SUBCELLULAR       0.68      0.74      0.71      1319\n",
      "        TISSUE       0.73      0.69      0.71      1261\n",
      "\n",
      "     micro avg       0.79      0.82      0.81     21776\n",
      "     macro avg       0.75      0.78      0.77     21776\n",
      "  weighted avg       0.79      0.82      0.81     21776\n",
      "\n",
      "{'test_loss': 0.2077668160200119, 'test_accuracy_score': 0.947730776370695, 'test_precision': 0.7920674137474631, 'test_recall': 0.8244397501836884, 'test_f1': 0.8079294361189865, 'test_runtime': 20.3747, 'test_samples_per_second': 117.744, 'test_steps_per_second': 1.865}\n"
     ]
    }
   ],
   "source": [
    "train_tokcl(\n",
    "    training_args_tokcl,\n",
    "    loader_path,\n",
    "    data_config_name,\n",
    "    tokenized_examples,\n",
    "    no_cache,\n",
    "    tokenizer,\n",
    "    from_pretrained\n",
    ")"
   ]
  },
  {
   "cell_type": "markdown",
   "metadata": {},
   "source": [
    "same via CLI:\n",
    "    \n",
    "```bash\n",
    "python -m smtag.cli.tokcl.train \\\n",
    "./smtag/loader/loader_tokcl.py NER \\\n",
    "--data_dir /data/json/sd_test \\\n",
    "--num_train_epochs=1 \\\n",
    "--logging_steps=100 \\\n",
    "--per_device_train_batch_size=16 \\\n",
    "--per_device_eval_batch_size=16 \\\n",
    "--replacement_probability=0.2 \\\n",
    "--masking_probability=.0\n",
    "```"
   ]
  },
  {
   "cell_type": "code",
   "execution_count": null,
   "metadata": {},
   "outputs": [],
   "source": []
  },
  {
   "cell_type": "code",
   "execution_count": null,
   "metadata": {},
   "outputs": [],
   "source": []
  }
 ],
 "metadata": {
  "kernelspec": {
   "display_name": "Python 3",
   "language": "python",
   "name": "python3"
  },
  "language_info": {
   "codemirror_mode": {
    "name": "ipython",
    "version": 3
   },
   "file_extension": ".py",
   "mimetype": "text/x-python",
   "name": "python",
   "nbconvert_exporter": "python",
   "pygments_lexer": "ipython3",
   "version": "3.8.5"
  }
 },
 "nbformat": 4,
 "nbformat_minor": 5
}
